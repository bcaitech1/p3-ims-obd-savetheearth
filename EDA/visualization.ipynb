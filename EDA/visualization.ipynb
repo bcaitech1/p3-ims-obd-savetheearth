{
 "metadata": {
  "language_info": {
   "codemirror_mode": {
    "name": "ipython",
    "version": 3
   },
   "file_extension": ".py",
   "mimetype": "text/x-python",
   "name": "python",
   "nbconvert_exporter": "python",
   "pygments_lexer": "ipython3",
   "version": "3.7.7"
  },
  "orig_nbformat": 2,
  "kernelspec": {
   "name": "python377jvsc74a57bd098b0a9b7b4eaaa670588a142fd0a9b87eaafe866f1db4228be72b4211d12040f",
   "display_name": "Python 3.7.7 64-bit"
  }
 },
 "nbformat": 4,
 "nbformat_minor": 2,
 "cells": [
  {
   "cell_type": "code",
   "execution_count": 2,
   "metadata": {},
   "outputs": [],
   "source": [
    "import numpy as np\n",
    "import pandas as pd"
   ]
  },
  {
   "cell_type": "code",
   "execution_count": 4,
   "metadata": {},
   "outputs": [
    {
     "output_type": "execute_result",
     "data": {
      "text/plain": [
       "array([[  0,   0,   0],\n",
       "       [129, 236, 236],\n",
       "       [  2, 132, 227],\n",
       "       [232,  67, 147],\n",
       "       [255, 234,  11],\n",
       "       [  0, 184, 148],\n",
       "       [ 85, 239, 196],\n",
       "       [ 48,  51, 107],\n",
       "       [255, 159,  26],\n",
       "       [255, 204, 204],\n",
       "       [179,  57,  57],\n",
       "       [248, 243, 212]], dtype=uint8)"
      ]
     },
     "metadata": {},
     "execution_count": 4
    }
   ],
   "source": [
    "COLORS =[\n",
    "        [0, 0, 0],\n",
    "        [129, 236, 236],\n",
    "        [2, 132, 227],\n",
    "        [232, 67, 147],\n",
    "        [255, 234, 267],\n",
    "        [0, 184, 148],\n",
    "        [85, 239, 196],\n",
    "        [48, 51, 107],\n",
    "        [255, 159, 26],\n",
    "        [255, 204, 204],\n",
    "        [179, 57, 57],\n",
    "        [248, 243, 212],\n",
    "    ]\n",
    "\n",
    "COLORS = np.array(COLORS).astype('uint8')\n"
   ]
  },
  {
   "cell_type": "code",
   "execution_count": null,
   "metadata": {},
   "outputs": [],
   "source": []
  }
 ]
}