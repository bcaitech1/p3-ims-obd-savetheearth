{
 "cells": [
  {
   "cell_type": "code",
   "execution_count": 1,
   "metadata": {},
   "outputs": [],
   "source": [
    "import os\n"
   ]
  },
  {
   "cell_type": "code",
   "execution_count": 1,
   "metadata": {
    "pycharm": {
     "name": "#%%\n"
    }
   },
   "outputs": [],
   "source": [
    "from mmcv import Config\n",
    "from mmdet.datasets import build_dataset\n",
    "from mmdet.models import build_detector\n",
    "from mmdet.apis import train_detector\n",
    "from mmcv.runner import load_checkpoint\n",
    "from mmdet.datasets import (build_dataloader, build_dataset,\n",
    "                            replace_ImageToTensor)"
   ]
  },
  {
   "cell_type": "code",
   "execution_count": 53,
   "metadata": {
    "pycharm": {
     "name": "#%%\n"
    }
   },
   "outputs": [],
   "source": [
    "classes = (\"UNKNOWN\", \"General trash\", \"Paper\", \"Paper pack\", \"Metal\", \"Glass\", \n",
    "           \"Plastic\", \"Styrofoam\", \"Plastic bag\", \"Battery\", \"Clothing\")\n",
    "# config file 들고오기\n",
    "cfg = Config.fromfile('./configs/My_config/vfnet_x101_64x4d_fpn_ver2.py')\n",
    "#PREFIX = '../../input/data/'\n",
    "\n",
    "\n",
    "# dataset 바꾸기\n",
    "# cfg.data.train.classes = classes\n",
    "# cfg.data.val.classes = classes\n",
    "# cfg.data.test.classes = classes\n",
    "\n",
    "\n",
    "cfg.seed=2020\n",
    "cfg.gpu_ids = [0]\n",
    "#cfg.load_from=None\n",
    "#cfg.work_dir = './work_dirs/faster_rcnn_r50_fpn_1x_trash'\n",
    "\n",
    "#cfg.model.roi_head.bbox_head.num_classes = 11\n",
    "\n",
    "#cfg.optimizer_config.grad_clip = dict(max_norm=35, norm_type=2)"
   ]
  },
  {
   "cell_type": "code",
   "execution_count": 54,
   "metadata": {},
   "outputs": [],
   "source": [
    "#print(f'Config:\\n{cfg.pretty_text}')"
   ]
  },
  {
   "cell_type": "code",
   "execution_count": 55,
   "metadata": {},
   "outputs": [],
   "source": [
    "# 중간부터 다시 실행\n",
    "# save_model='./work_dirs/vfnet_X-101-64x4d/epoch_6.pth'\n",
    "# model = build_detector(cfg.model)\n",
    "# checkpoint = load_checkpoint(model, save_model)"
   ]
  },
  {
   "cell_type": "code",
   "execution_count": 56,
   "metadata": {
    "pycharm": {
     "name": "#%%\n"
    }
   },
   "outputs": [],
   "source": [
    "# 처음 부터 실행\n",
    "model = build_detector(cfg.model)"
   ]
  },
  {
   "cell_type": "code",
   "execution_count": 57,
   "metadata": {
    "pycharm": {
     "name": "#%%\n"
    }
   },
   "outputs": [
    {
     "name": "stdout",
     "output_type": "stream",
     "text": [
      "loading annotations into memory...\n",
      "Done (t=16.47s)\n",
      "creating index...\n",
      "index created!\n"
     ]
    },
    {
     "name": "stderr",
     "output_type": "stream",
     "text": [
      "/miniconda/lib/python3.8/site-packages/albumentations/augmentations/transforms.py:868: FutureWarning: This class has been deprecated. Please use ImageCompression\n",
      "  warnings.warn(\n",
      "/miniconda/lib/python3.8/site-packages/albumentations/augmentations/transforms.py:643: FutureWarning: This class has been deprecated. Please use CoarseDropout\n",
      "  warnings.warn(\n"
     ]
    }
   ],
   "source": [
    "datasets = [build_dataset(cfg.data.train)]"
   ]
  },
  {
   "cell_type": "code",
   "execution_count": 7,
   "metadata": {
    "pycharm": {
     "name": "#%%\n"
    }
   },
   "outputs": [
    {
     "name": "stdout",
     "output_type": "stream",
     "text": [
      "loading annotations into memory...\n"
     ]
    },
    {
     "name": "stderr",
     "output_type": "stream",
     "text": [
      "2021-05-19 17:05:24,484 - mmdet - INFO - load checkpoint from ./models/vfnet_x101_64x4d_fpn_mdconv_c3-c5_mstrain_2x_coco_20201027pth-b5f6da5e.pth\n",
      "2021-05-19 17:05:24,486 - mmdet - INFO - Use load_from_local loader\n"
     ]
    },
    {
     "name": "stdout",
     "output_type": "stream",
     "text": [
      "Done (t=0.87s)\n",
      "creating index...\n",
      "index created!\n"
     ]
    },
    {
     "name": "stderr",
     "output_type": "stream",
     "text": [
      "2021-05-19 17:05:24,854 - mmdet - WARNING - The model and loaded state dict do not match exactly\n",
      "\n",
      "size mismatch for bbox_head.vfnet_cls.weight: copying a param with shape torch.Size([80, 256, 3, 3]) from checkpoint, the shape in current model is torch.Size([11, 256, 3, 3]).\n",
      "size mismatch for bbox_head.vfnet_cls.bias: copying a param with shape torch.Size([80]) from checkpoint, the shape in current model is torch.Size([11]).\n",
      "2021-05-19 17:05:24,865 - mmdet - INFO - Start running, host: root@aab1e9b816b2, work_dir: /opt/ml/code/mmdetection_trash/work_dirs/vfnet_x101_64x4d_fpn_ver2\n",
      "2021-05-19 17:05:24,865 - mmdet - INFO - workflow: [('train', 1)], max: 50 epochs\n",
      "/opt/ml/code/mmdetection_trash/mmdet/core/evaluation/eval_hooks.py:112: UserWarning: runner.meta is None. Creating a empty one.\n",
      "  warnings.warn('runner.meta is None. Creating a empty one.')\n",
      "2021-05-19 17:11:20,266 - mmdet - INFO - Epoch [1][50/328]\tlr: 1.882e-03, eta: 1 day, 8:16:51, time: 7.108, data_time: 0.067, memory: 19673, loss_cls: 1.6548, loss_bbox: 0.3893, loss_bbox_rf: 0.5152, loss: 2.5593\n",
      "2021-05-19 17:17:10,219 - mmdet - INFO - Epoch [1][100/328]\tlr: 2.782e-03, eta: 1 day, 7:56:11, time: 6.999, data_time: 0.016, memory: 19673, loss_cls: 1.0635, loss_bbox: 0.3779, loss_bbox_rf: 0.4973, loss: 1.9387\n",
      "2021-05-19 17:23:02,442 - mmdet - INFO - Epoch [1][150/328]\tlr: 3.682e-03, eta: 1 day, 7:49:29, time: 7.044, data_time: 0.016, memory: 19673, loss_cls: 1.0307, loss_bbox: 0.3574, loss_bbox_rf: 0.4693, loss: 1.8574\n",
      "2021-05-19 17:28:52,984 - mmdet - INFO - Epoch [1][200/328]\tlr: 4.582e-03, eta: 1 day, 7:40:56, time: 7.011, data_time: 0.016, memory: 19673, loss_cls: 1.0208, loss_bbox: 0.3509, loss_bbox_rf: 0.4573, loss: 1.8291\n",
      "2021-05-19 17:34:36,666 - mmdet - INFO - Epoch [1][250/328]\tlr: 5.482e-03, eta: 1 day, 7:26:05, time: 6.874, data_time: 0.016, memory: 19673, loss_cls: 1.0060, loss_bbox: 0.3567, loss_bbox_rf: 0.4652, loss: 1.8279\n",
      "2021-05-19 17:40:27,184 - mmdet - INFO - Epoch [1][300/328]\tlr: 6.382e-03, eta: 1 day, 7:20:23, time: 7.010, data_time: 0.016, memory: 19673, loss_cls: 0.9735, loss_bbox: 0.3613, loss_bbox_rf: 0.4726, loss: 1.8074\n",
      "2021-05-19 17:43:43,005 - mmdet - INFO - Saving checkpoint at 1 epochs\n"
     ]
    },
    {
     "name": "stdout",
     "output_type": "stream",
     "text": [
      "[>>>>>>>>>>>>>>>>>>>>>>>>>>>>>>] 650/650, 8.0 task/s, elapsed: 81s, ETA:     0s"
     ]
    },
    {
     "name": "stderr",
     "output_type": "stream",
     "text": [
      "2021-05-19 17:45:07,254 - mmdet - INFO - Evaluating bbox...\n"
     ]
    },
    {
     "name": "stdout",
     "output_type": "stream",
     "text": [
      "Loading and preparing results...\n",
      "DONE (t=1.12s)\n",
      "creating index...\n",
      "index created!\n",
      "Running per image evaluation...\n",
      "Evaluate annotation type *bbox*\n",
      "DONE (t=8.40s).\n",
      "Accumulating evaluation results...\n",
      "DONE (t=1.91s).\n",
      "Average Precision  (AP) @[ IoU=0.50:0.95 | area=   all | maxDets=100 ] = 0.149\n",
      "Average Precision  (AP) @[ IoU=0.50      | area=   all | maxDets=1000 ] = 0.206\n",
      "Average Precision  (AP) @[ IoU=0.75      | area=   all | maxDets=1000 ] = 0.158\n",
      "Average Precision  (AP) @[ IoU=0.50:0.95 | area= small | maxDets=1000 ] = 0.038\n",
      "Average Precision  (AP) @[ IoU=0.50:0.95 | area=medium | maxDets=1000 ] = 0.174\n",
      "Average Precision  (AP) @[ IoU=0.50:0.95 | area= large | maxDets=1000 ] = 0.277\n",
      "Average Recall     (AR) @[ IoU=0.50:0.95 | area=   all | maxDets=100 ] = 0.405\n",
      "Average Recall     (AR) @[ IoU=0.50:0.95 | area=   all | maxDets=300 ] = 0.405\n",
      "Average Recall     (AR) @[ IoU=0.50:0.95 | area=   all | maxDets=1000 ] = 0.405\n",
      "Average Recall     (AR) @[ IoU=0.50:0.95 | area= small | maxDets=1000 ] = 0.091\n",
      "Average Recall     (AR) @[ IoU=0.50:0.95 | area=medium | maxDets=1000 ] = 0.347\n",
      "Average Recall     (AR) @[ IoU=0.50:0.95 | area= large | maxDets=1000 ] = 0.713\n"
     ]
    },
    {
     "name": "stderr",
     "output_type": "stream",
     "text": [
      "2021-05-19 17:45:19,662 - mmdet - INFO - Now best checkpoint is epoch_1.pth.Best bbox_mAP_50 is 0.2060\n",
      "2021-05-19 17:45:19,667 - mmdet - INFO - Epoch(val) [1][328]\tbbox_mAP: 0.1490, bbox_mAP_50: 0.2060, bbox_mAP_75: 0.1580, bbox_mAP_s: 0.0380, bbox_mAP_m: 0.1740, bbox_mAP_l: 0.2770, bbox_mAP_copypaste: 0.149 0.206 0.158 0.038 0.174 0.277\n",
      "2021-05-19 17:51:14,506 - mmdet - INFO - Epoch [2][50/328]\tlr: 7.786e-03, eta: 1 day, 4:55:48, time: 7.096, data_time: 0.072, memory: 19673, loss_cls: 0.9543, loss_bbox: 0.3702, loss_bbox_rf: 0.4845, loss: 1.8090\n",
      "2021-05-19 17:57:04,609 - mmdet - INFO - Epoch [2][100/328]\tlr: 8.686e-03, eta: 1 day, 5:05:59, time: 7.002, data_time: 0.016, memory: 19673, loss_cls: 0.9600, loss_bbox: 0.3655, loss_bbox_rf: 0.4757, loss: 1.8012\n",
      "2021-05-19 18:02:57,162 - mmdet - INFO - Epoch [2][150/328]\tlr: 9.586e-03, eta: 1 day, 5:14:10, time: 7.051, data_time: 0.017, memory: 19673, loss_cls: 0.9690, loss_bbox: 0.3637, loss_bbox_rf: 0.4725, loss: 1.8052\n",
      "2021-05-19 18:08:48,006 - mmdet - INFO - Epoch [2][200/328]\tlr: 1.000e-02, eta: 1 day, 5:18:51, time: 7.017, data_time: 0.017, memory: 19673, loss_cls: 1.0239, loss_bbox: 0.3512, loss_bbox_rf: 0.4577, loss: 1.8328\n",
      "2021-05-19 18:14:31,770 - mmdet - INFO - Epoch [2][250/328]\tlr: 1.000e-02, eta: 1 day, 5:18:28, time: 6.875, data_time: 0.017, memory: 19673, loss_cls: 0.9717, loss_bbox: 0.3629, loss_bbox_rf: 0.4713, loss: 1.8059\n",
      "2021-05-19 18:20:22,769 - mmdet - INFO - Epoch [2][300/328]\tlr: 1.000e-02, eta: 1 day, 5:20:16, time: 7.020, data_time: 0.016, memory: 19673, loss_cls: 0.9750, loss_bbox: 0.3640, loss_bbox_rf: 0.4700, loss: 1.8090\n",
      "2021-05-19 18:23:38,783 - mmdet - INFO - Saving checkpoint at 2 epochs\n"
     ]
    },
    {
     "name": "stdout",
     "output_type": "stream",
     "text": [
      "[>>>>>>>>>>>>>>>>>>>>>>>>>>>>>>] 650/650, 8.0 task/s, elapsed: 82s, ETA:     0s"
     ]
    },
    {
     "name": "stderr",
     "output_type": "stream",
     "text": [
      "2021-05-19 18:25:03,784 - mmdet - INFO - Evaluating bbox...\n"
     ]
    },
    {
     "name": "stdout",
     "output_type": "stream",
     "text": [
      "Loading and preparing results...\n",
      "DONE (t=0.67s)\n",
      "creating index...\n",
      "index created!\n",
      "Running per image evaluation...\n",
      "Evaluate annotation type *bbox*\n",
      "DONE (t=9.49s).\n",
      "Accumulating evaluation results...\n",
      "DONE (t=1.74s).\n",
      "Average Precision  (AP) @[ IoU=0.50:0.95 | area=   all | maxDets=100 ] = 0.180\n",
      "Average Precision  (AP) @[ IoU=0.50      | area=   all | maxDets=1000 ] = 0.247\n",
      "Average Precision  (AP) @[ IoU=0.75      | area=   all | maxDets=1000 ] = 0.190\n",
      "Average Precision  (AP) @[ IoU=0.50:0.95 | area= small | maxDets=1000 ] = 0.050\n",
      "Average Precision  (AP) @[ IoU=0.50:0.95 | area=medium | maxDets=1000 ] = 0.203\n",
      "Average Precision  (AP) @[ IoU=0.50:0.95 | area= large | maxDets=1000 ] = 0.321\n",
      "Average Recall     (AR) @[ IoU=0.50:0.95 | area=   all | maxDets=100 ] = 0.434\n",
      "Average Recall     (AR) @[ IoU=0.50:0.95 | area=   all | maxDets=300 ] = 0.434\n",
      "Average Recall     (AR) @[ IoU=0.50:0.95 | area=   all | maxDets=1000 ] = 0.434\n",
      "Average Recall     (AR) @[ IoU=0.50:0.95 | area= small | maxDets=1000 ] = 0.127\n",
      "Average Recall     (AR) @[ IoU=0.50:0.95 | area=medium | maxDets=1000 ] = 0.385\n",
      "Average Recall     (AR) @[ IoU=0.50:0.95 | area= large | maxDets=1000 ] = 0.708\n"
     ]
    },
    {
     "name": "stderr",
     "output_type": "stream",
     "text": [
      "2021-05-19 18:25:20,670 - mmdet - INFO - Now best checkpoint is epoch_2.pth.Best bbox_mAP_50 is 0.2470\n",
      "2021-05-19 18:25:20,675 - mmdet - INFO - Epoch(val) [2][328]\tbbox_mAP: 0.1800, bbox_mAP_50: 0.2470, bbox_mAP_75: 0.1900, bbox_mAP_s: 0.0500, bbox_mAP_m: 0.2030, bbox_mAP_l: 0.3210, bbox_mAP_copypaste: 0.180 0.247 0.190 0.050 0.203 0.321\n",
      "2021-05-19 18:31:15,458 - mmdet - INFO - Epoch [3][50/328]\tlr: 1.000e-02, eta: 1 day, 4:09:29, time: 7.095, data_time: 0.070, memory: 19673, loss_cls: 0.9709, loss_bbox: 0.3522, loss_bbox_rf: 0.4528, loss: 1.7759\n",
      "2021-05-19 18:37:05,315 - mmdet - INFO - Epoch [3][100/328]\tlr: 1.000e-02, eta: 1 day, 4:13:23, time: 6.997, data_time: 0.016, memory: 19673, loss_cls: 0.9579, loss_bbox: 0.3721, loss_bbox_rf: 0.4824, loss: 1.8124\n",
      "2021-05-19 18:42:57,752 - mmdet - INFO - Epoch [3][150/328]\tlr: 1.000e-02, eta: 1 day, 4:16:54, time: 7.049, data_time: 0.016, memory: 19673, loss_cls: 0.9582, loss_bbox: 0.3687, loss_bbox_rf: 0.4711, loss: 1.7979\n",
      "2021-05-19 18:48:48,887 - mmdet - INFO - Epoch [3][200/328]\tlr: 1.000e-02, eta: 1 day, 4:18:56, time: 7.023, data_time: 0.016, memory: 19673, loss_cls: 0.9543, loss_bbox: 0.3607, loss_bbox_rf: 0.4627, loss: 1.7777\n",
      "2021-05-19 18:54:32,772 - mmdet - INFO - Epoch [3][250/328]\tlr: 1.000e-02, eta: 1 day, 4:18:01, time: 6.878, data_time: 0.016, memory: 19673, loss_cls: 0.9792, loss_bbox: 0.3746, loss_bbox_rf: 0.4826, loss: 1.8364\n",
      "2021-05-19 19:00:23,596 - mmdet - INFO - Epoch [3][300/328]\tlr: 1.000e-02, eta: 1 day, 4:18:28, time: 7.016, data_time: 0.017, memory: 19673, loss_cls: 0.9458, loss_bbox: 0.3555, loss_bbox_rf: 0.4607, loss: 1.7621\n",
      "2021-05-19 19:03:39,589 - mmdet - INFO - Saving checkpoint at 3 epochs\n"
     ]
    },
    {
     "name": "stdout",
     "output_type": "stream",
     "text": [
      "[>>>>>>>>>>>>>>>>>>>>>>>>>>>>>>] 650/650, 7.9 task/s, elapsed: 82s, ETA:     0s"
     ]
    },
    {
     "name": "stderr",
     "output_type": "stream",
     "text": [
      "2021-05-19 19:05:04,887 - mmdet - INFO - Evaluating bbox...\n"
     ]
    },
    {
     "name": "stdout",
     "output_type": "stream",
     "text": [
      "Loading and preparing results...\n",
      "DONE (t=1.12s)\n",
      "creating index...\n",
      "index created!\n",
      "Running per image evaluation...\n",
      "Evaluate annotation type *bbox*\n",
      "DONE (t=8.17s).\n",
      "Accumulating evaluation results...\n",
      "DONE (t=1.85s).\n",
      "Average Precision  (AP) @[ IoU=0.50:0.95 | area=   all | maxDets=100 ] = 0.223\n",
      "Average Precision  (AP) @[ IoU=0.50      | area=   all | maxDets=1000 ] = 0.319\n",
      "Average Precision  (AP) @[ IoU=0.75      | area=   all | maxDets=1000 ] = 0.234\n",
      "Average Precision  (AP) @[ IoU=0.50:0.95 | area= small | maxDets=1000 ] = 0.054\n",
      "Average Precision  (AP) @[ IoU=0.50:0.95 | area=medium | maxDets=1000 ] = 0.219\n",
      "Average Precision  (AP) @[ IoU=0.50:0.95 | area= large | maxDets=1000 ] = 0.385\n",
      "Average Recall     (AR) @[ IoU=0.50:0.95 | area=   all | maxDets=100 ] = 0.437\n",
      "Average Recall     (AR) @[ IoU=0.50:0.95 | area=   all | maxDets=300 ] = 0.437\n",
      "Average Recall     (AR) @[ IoU=0.50:0.95 | area=   all | maxDets=1000 ] = 0.437\n",
      "Average Recall     (AR) @[ IoU=0.50:0.95 | area= small | maxDets=1000 ] = 0.126\n",
      "Average Recall     (AR) @[ IoU=0.50:0.95 | area=medium | maxDets=1000 ] = 0.419\n",
      "Average Recall     (AR) @[ IoU=0.50:0.95 | area= large | maxDets=1000 ] = 0.686\n"
     ]
    },
    {
     "name": "stderr",
     "output_type": "stream",
     "text": [
      "2021-05-19 19:05:20,997 - mmdet - INFO - Now best checkpoint is epoch_3.pth.Best bbox_mAP_50 is 0.3190\n",
      "2021-05-19 19:05:21,002 - mmdet - INFO - Epoch(val) [3][328]\tbbox_mAP: 0.2230, bbox_mAP_50: 0.3190, bbox_mAP_75: 0.2340, bbox_mAP_s: 0.0540, bbox_mAP_m: 0.2190, bbox_mAP_l: 0.3850, bbox_mAP_copypaste: 0.223 0.319 0.234 0.054 0.219 0.385\n",
      "2021-05-19 19:11:15,901 - mmdet - INFO - Epoch [4][50/328]\tlr: 1.000e-02, eta: 1 day, 3:30:19, time: 7.098, data_time: 0.070, memory: 19673, loss_cls: 0.9260, loss_bbox: 0.3689, loss_bbox_rf: 0.4676, loss: 1.7625\n",
      "2021-05-19 19:17:05,492 - mmdet - INFO - Epoch [4][100/328]\tlr: 1.000e-02, eta: 1 day, 3:31:24, time: 6.992, data_time: 0.016, memory: 19673, loss_cls: 0.9327, loss_bbox: 0.3509, loss_bbox_rf: 0.4482, loss: 1.7318\n",
      "2021-05-19 19:22:57,751 - mmdet - INFO - Epoch [4][150/328]\tlr: 1.000e-02, eta: 1 day, 3:32:28, time: 7.045, data_time: 0.016, memory: 19673, loss_cls: 0.9233, loss_bbox: 0.3505, loss_bbox_rf: 0.4477, loss: 1.7215\n",
      "2021-05-19 19:28:48,648 - mmdet - INFO - Epoch [4][200/328]\tlr: 1.000e-02, eta: 1 day, 3:32:39, time: 7.018, data_time: 0.016, memory: 19673, loss_cls: 0.9147, loss_bbox: 0.3576, loss_bbox_rf: 0.4553, loss: 1.7276\n",
      "2021-05-19 19:34:32,479 - mmdet - INFO - Epoch [4][250/328]\tlr: 1.000e-02, eta: 1 day, 3:30:54, time: 6.877, data_time: 0.016, memory: 19673, loss_cls: 0.9304, loss_bbox: 0.3473, loss_bbox_rf: 0.4470, loss: 1.7247\n",
      "2021-05-19 19:40:23,005 - mmdet - INFO - Epoch [4][300/328]\tlr: 1.000e-02, eta: 1 day, 3:30:10, time: 7.010, data_time: 0.016, memory: 19673, loss_cls: 0.9094, loss_bbox: 0.3490, loss_bbox_rf: 0.4493, loss: 1.7076\n",
      "2021-05-19 19:43:38,882 - mmdet - INFO - Saving checkpoint at 4 epochs\n"
     ]
    },
    {
     "name": "stdout",
     "output_type": "stream",
     "text": [
      "[>>>>>>>>>>>>>>>>>>>>>>>>>>>>>>] 650/650, 8.0 task/s, elapsed: 82s, ETA:     0s"
     ]
    },
    {
     "name": "stderr",
     "output_type": "stream",
     "text": [
      "2021-05-19 19:45:04,355 - mmdet - INFO - Evaluating bbox...\n"
     ]
    },
    {
     "name": "stdout",
     "output_type": "stream",
     "text": [
      "Loading and preparing results...\n",
      "DONE (t=0.73s)\n",
      "creating index...\n",
      "index created!\n",
      "Running per image evaluation...\n",
      "Evaluate annotation type *bbox*\n",
      "DONE (t=9.18s).\n",
      "Accumulating evaluation results...\n",
      "DONE (t=1.90s).\n",
      "Average Precision  (AP) @[ IoU=0.50:0.95 | area=   all | maxDets=100 ] = 0.245\n",
      "Average Precision  (AP) @[ IoU=0.50      | area=   all | maxDets=1000 ] = 0.353\n",
      "Average Precision  (AP) @[ IoU=0.75      | area=   all | maxDets=1000 ] = 0.266\n",
      "Average Precision  (AP) @[ IoU=0.50:0.95 | area= small | maxDets=1000 ] = 0.058\n",
      "Average Precision  (AP) @[ IoU=0.50:0.95 | area=medium | maxDets=1000 ] = 0.228\n",
      "Average Precision  (AP) @[ IoU=0.50:0.95 | area= large | maxDets=1000 ] = 0.397\n",
      "Average Recall     (AR) @[ IoU=0.50:0.95 | area=   all | maxDets=100 ] = 0.436\n",
      "Average Recall     (AR) @[ IoU=0.50:0.95 | area=   all | maxDets=300 ] = 0.436\n",
      "Average Recall     (AR) @[ IoU=0.50:0.95 | area=   all | maxDets=1000 ] = 0.436\n",
      "Average Recall     (AR) @[ IoU=0.50:0.95 | area= small | maxDets=1000 ] = 0.126\n",
      "Average Recall     (AR) @[ IoU=0.50:0.95 | area=medium | maxDets=1000 ] = 0.424\n",
      "Average Recall     (AR) @[ IoU=0.50:0.95 | area= large | maxDets=1000 ] = 0.677\n"
     ]
    },
    {
     "name": "stderr",
     "output_type": "stream",
     "text": [
      "2021-05-19 19:45:21,187 - mmdet - INFO - Now best checkpoint is epoch_4.pth.Best bbox_mAP_50 is 0.3530\n",
      "2021-05-19 19:45:21,192 - mmdet - INFO - Epoch(val) [4][328]\tbbox_mAP: 0.2450, bbox_mAP_50: 0.3530, bbox_mAP_75: 0.2660, bbox_mAP_s: 0.0580, bbox_mAP_m: 0.2280, bbox_mAP_l: 0.3970, bbox_mAP_copypaste: 0.245 0.353 0.266 0.058 0.228 0.397\n",
      "2021-05-19 19:51:16,147 - mmdet - INFO - Epoch [5][50/328]\tlr: 1.000e-02, eta: 1 day, 2:52:57, time: 7.099, data_time: 0.072, memory: 19673, loss_cls: 0.9398, loss_bbox: 0.3415, loss_bbox_rf: 0.4305, loss: 1.7118\n",
      "2021-05-19 19:57:05,763 - mmdet - INFO - Epoch [5][100/328]\tlr: 1.000e-02, eta: 1 day, 2:52:31, time: 6.992, data_time: 0.016, memory: 19673, loss_cls: 0.9216, loss_bbox: 0.3569, loss_bbox_rf: 0.4571, loss: 1.7356\n",
      "2021-05-19 20:02:57,888 - mmdet - INFO - Epoch [5][150/328]\tlr: 1.000e-02, eta: 1 day, 2:52:08, time: 7.042, data_time: 0.016, memory: 19673, loss_cls: 0.8949, loss_bbox: 0.3413, loss_bbox_rf: 0.4394, loss: 1.6756\n",
      "2021-05-19 20:08:48,382 - mmdet - INFO - Epoch [5][200/328]\tlr: 1.000e-02, eta: 1 day, 2:51:07, time: 7.010, data_time: 0.016, memory: 19673, loss_cls: 0.9404, loss_bbox: 0.3347, loss_bbox_rf: 0.4233, loss: 1.6983\n",
      "2021-05-19 20:14:32,156 - mmdet - INFO - Epoch [5][250/328]\tlr: 1.000e-02, eta: 1 day, 2:48:44, time: 6.875, data_time: 0.016, memory: 19673, loss_cls: 0.9211, loss_bbox: 0.3459, loss_bbox_rf: 0.4429, loss: 1.7099\n",
      "2021-05-19 20:20:22,953 - mmdet - INFO - Epoch [5][300/328]\tlr: 1.000e-02, eta: 1 day, 2:47:13, time: 7.016, data_time: 0.016, memory: 19673, loss_cls: 0.9215, loss_bbox: 0.3374, loss_bbox_rf: 0.4332, loss: 1.6921\n",
      "2021-05-19 20:23:39,129 - mmdet - INFO - Saving checkpoint at 5 epochs\n"
     ]
    },
    {
     "name": "stdout",
     "output_type": "stream",
     "text": [
      "[>>>>>>>>>>>>>>>>>>>>>>>>>>>>>>] 650/650, 8.0 task/s, elapsed: 81s, ETA:     0s"
     ]
    },
    {
     "name": "stderr",
     "output_type": "stream",
     "text": [
      "2021-05-19 20:25:03,880 - mmdet - INFO - Evaluating bbox...\n"
     ]
    },
    {
     "name": "stdout",
     "output_type": "stream",
     "text": [
      "Loading and preparing results...\n",
      "DONE (t=1.12s)\n",
      "creating index...\n",
      "index created!\n",
      "Running per image evaluation...\n",
      "Evaluate annotation type *bbox*\n",
      "DONE (t=8.60s).\n",
      "Accumulating evaluation results...\n",
      "DONE (t=1.91s).\n",
      "Average Precision  (AP) @[ IoU=0.50:0.95 | area=   all | maxDets=100 ] = 0.274\n",
      "Average Precision  (AP) @[ IoU=0.50      | area=   all | maxDets=1000 ] = 0.376\n",
      "Average Precision  (AP) @[ IoU=0.75      | area=   all | maxDets=1000 ] = 0.296\n",
      "Average Precision  (AP) @[ IoU=0.50:0.95 | area= small | maxDets=1000 ] = 0.068\n",
      "Average Precision  (AP) @[ IoU=0.50:0.95 | area=medium | maxDets=1000 ] = 0.229\n",
      "Average Precision  (AP) @[ IoU=0.50:0.95 | area= large | maxDets=1000 ] = 0.472\n",
      "Average Recall     (AR) @[ IoU=0.50:0.95 | area=   all | maxDets=100 ] = 0.449\n",
      "Average Recall     (AR) @[ IoU=0.50:0.95 | area=   all | maxDets=300 ] = 0.449\n",
      "Average Recall     (AR) @[ IoU=0.50:0.95 | area=   all | maxDets=1000 ] = 0.449\n",
      "Average Recall     (AR) @[ IoU=0.50:0.95 | area= small | maxDets=1000 ] = 0.145\n",
      "Average Recall     (AR) @[ IoU=0.50:0.95 | area=medium | maxDets=1000 ] = 0.420\n",
      "Average Recall     (AR) @[ IoU=0.50:0.95 | area= large | maxDets=1000 ] = 0.709\n"
     ]
    },
    {
     "name": "stderr",
     "output_type": "stream",
     "text": [
      "2021-05-19 20:25:20,438 - mmdet - INFO - Now best checkpoint is epoch_5.pth.Best bbox_mAP_50 is 0.3760\n",
      "2021-05-19 20:25:20,443 - mmdet - INFO - Epoch(val) [5][328]\tbbox_mAP: 0.2740, bbox_mAP_50: 0.3760, bbox_mAP_75: 0.2960, bbox_mAP_s: 0.0680, bbox_mAP_m: 0.2290, bbox_mAP_l: 0.4720, bbox_mAP_copypaste: 0.274 0.376 0.296 0.068 0.229 0.472\n",
      "2021-05-19 20:31:15,143 - mmdet - INFO - Epoch [6][50/328]\tlr: 1.000e-02, eta: 1 day, 2:16:24, time: 7.094, data_time: 0.068, memory: 19673, loss_cls: 0.9239, loss_bbox: 0.3271, loss_bbox_rf: 0.4191, loss: 1.6701\n",
      "2021-05-19 20:37:05,258 - mmdet - INFO - Epoch [6][100/328]\tlr: 1.000e-02, eta: 1 day, 2:15:04, time: 7.002, data_time: 0.016, memory: 19673, loss_cls: 0.8849, loss_bbox: 0.3400, loss_bbox_rf: 0.4334, loss: 1.6583\n",
      "2021-05-19 20:42:57,952 - mmdet - INFO - Epoch [6][150/328]\tlr: 1.000e-02, eta: 1 day, 2:13:50, time: 7.054, data_time: 0.016, memory: 19673, loss_cls: 0.9051, loss_bbox: 0.3309, loss_bbox_rf: 0.4237, loss: 1.6597\n",
      "2021-05-19 20:48:49,110 - mmdet - INFO - Epoch [6][200/328]\tlr: 1.000e-02, eta: 1 day, 2:12:08, time: 7.023, data_time: 0.016, memory: 19673, loss_cls: 0.9056, loss_bbox: 0.3269, loss_bbox_rf: 0.4183, loss: 1.6508\n",
      "2021-05-19 20:54:33,364 - mmdet - INFO - Epoch [6][250/328]\tlr: 1.000e-02, eta: 1 day, 2:09:20, time: 6.885, data_time: 0.016, memory: 19673, loss_cls: 0.9028, loss_bbox: 0.3303, loss_bbox_rf: 0.4209, loss: 1.6541\n",
      "2021-05-19 21:00:24,193 - mmdet - INFO - Epoch [6][300/328]\tlr: 1.000e-02, eta: 1 day, 2:07:12, time: 7.017, data_time: 0.016, memory: 19673, loss_cls: 0.9209, loss_bbox: 0.3326, loss_bbox_rf: 0.4258, loss: 1.6793\n",
      "2021-05-19 21:03:40,251 - mmdet - INFO - Saving checkpoint at 6 epochs\n"
     ]
    },
    {
     "name": "stdout",
     "output_type": "stream",
     "text": [
      "[>>>>>>>>>>>>>>>>>>>>>>>>>>>>>>] 650/650, 7.8 task/s, elapsed: 83s, ETA:     0s"
     ]
    },
    {
     "name": "stderr",
     "output_type": "stream",
     "text": [
      "2021-05-19 21:05:06,335 - mmdet - INFO - Evaluating bbox...\n"
     ]
    },
    {
     "name": "stdout",
     "output_type": "stream",
     "text": [
      "Loading and preparing results...\n",
      "DONE (t=1.11s)\n",
      "creating index...\n",
      "index created!\n",
      "Running per image evaluation...\n",
      "Evaluate annotation type *bbox*\n",
      "DONE (t=9.05s).\n",
      "Accumulating evaluation results...\n"
     ]
    },
    {
     "name": "stderr",
     "output_type": "stream",
     "text": [
      "2021-05-19 21:05:18,394 - mmdet - INFO - Epoch(val) [6][328]\tbbox_mAP: 0.2510, bbox_mAP_50: 0.3380, bbox_mAP_75: 0.2650, bbox_mAP_s: 0.0580, bbox_mAP_m: 0.2110, bbox_mAP_l: 0.4470, bbox_mAP_copypaste: 0.251 0.338 0.265 0.058 0.211 0.447\n"
     ]
    },
    {
     "name": "stdout",
     "output_type": "stream",
     "text": [
      "DONE (t=1.77s).\n",
      "Average Precision  (AP) @[ IoU=0.50:0.95 | area=   all | maxDets=100 ] = 0.251\n",
      "Average Precision  (AP) @[ IoU=0.50      | area=   all | maxDets=1000 ] = 0.338\n",
      "Average Precision  (AP) @[ IoU=0.75      | area=   all | maxDets=1000 ] = 0.265\n",
      "Average Precision  (AP) @[ IoU=0.50:0.95 | area= small | maxDets=1000 ] = 0.058\n",
      "Average Precision  (AP) @[ IoU=0.50:0.95 | area=medium | maxDets=1000 ] = 0.211\n",
      "Average Precision  (AP) @[ IoU=0.50:0.95 | area= large | maxDets=1000 ] = 0.447\n",
      "Average Recall     (AR) @[ IoU=0.50:0.95 | area=   all | maxDets=100 ] = 0.412\n",
      "Average Recall     (AR) @[ IoU=0.50:0.95 | area=   all | maxDets=300 ] = 0.412\n",
      "Average Recall     (AR) @[ IoU=0.50:0.95 | area=   all | maxDets=1000 ] = 0.412\n",
      "Average Recall     (AR) @[ IoU=0.50:0.95 | area= small | maxDets=1000 ] = 0.128\n",
      "Average Recall     (AR) @[ IoU=0.50:0.95 | area=medium | maxDets=1000 ] = 0.365\n",
      "Average Recall     (AR) @[ IoU=0.50:0.95 | area= large | maxDets=1000 ] = 0.683\n"
     ]
    },
    {
     "name": "stderr",
     "output_type": "stream",
     "text": [
      "2021-05-19 21:11:13,399 - mmdet - INFO - Epoch [7][50/328]\tlr: 1.000e-02, eta: 1 day, 1:40:40, time: 7.100, data_time: 0.069, memory: 19673, loss_cls: 0.8779, loss_bbox: 0.3437, loss_bbox_rf: 0.4413, loss: 1.6629\n",
      "2021-05-19 21:17:03,607 - mmdet - INFO - Epoch [7][100/328]\tlr: 1.000e-02, eta: 1 day, 1:38:38, time: 7.004, data_time: 0.016, memory: 19673, loss_cls: 0.8729, loss_bbox: 0.3433, loss_bbox_rf: 0.4391, loss: 1.6553\n",
      "2021-05-19 21:22:55,987 - mmdet - INFO - Epoch [7][150/328]\tlr: 1.000e-02, eta: 1 day, 1:36:41, time: 7.048, data_time: 0.016, memory: 19673, loss_cls: 0.8789, loss_bbox: 0.3105, loss_bbox_rf: 0.3986, loss: 1.5880\n",
      "2021-05-19 21:28:46,800 - mmdet - INFO - Epoch [7][200/328]\tlr: 1.000e-02, eta: 1 day, 1:34:22, time: 7.016, data_time: 0.016, memory: 19673, loss_cls: 0.8749, loss_bbox: 0.3115, loss_bbox_rf: 0.4005, loss: 1.5869\n",
      "2021-05-19 21:34:30,736 - mmdet - INFO - Epoch [7][250/328]\tlr: 1.000e-02, eta: 1 day, 1:31:09, time: 6.879, data_time: 0.016, memory: 19673, loss_cls: 0.8996, loss_bbox: 0.3309, loss_bbox_rf: 0.4261, loss: 1.6566\n",
      "2021-05-19 21:40:21,580 - mmdet - INFO - Epoch [7][300/328]\tlr: 1.000e-02, eta: 1 day, 1:28:33, time: 7.017, data_time: 0.016, memory: 19673, loss_cls: 0.9162, loss_bbox: 0.3308, loss_bbox_rf: 0.4263, loss: 1.6734\n",
      "2021-05-19 21:43:37,370 - mmdet - INFO - Saving checkpoint at 7 epochs\n"
     ]
    },
    {
     "name": "stdout",
     "output_type": "stream",
     "text": [
      "[>>>>>>>>>>>>>>>>>>>>>>>>>>>>>>] 650/650, 7.9 task/s, elapsed: 82s, ETA:     0s"
     ]
    },
    {
     "name": "stderr",
     "output_type": "stream",
     "text": [
      "2021-05-19 21:45:02,828 - mmdet - INFO - Evaluating bbox...\n"
     ]
    },
    {
     "name": "stdout",
     "output_type": "stream",
     "text": [
      "Loading and preparing results...\n",
      "DONE (t=1.12s)\n",
      "creating index...\n",
      "index created!\n",
      "Running per image evaluation...\n",
      "Evaluate annotation type *bbox*\n",
      "DONE (t=8.84s).\n",
      "Accumulating evaluation results...\n"
     ]
    },
    {
     "name": "stderr",
     "output_type": "stream",
     "text": [
      "2021-05-19 21:45:14,734 - mmdet - INFO - Epoch(val) [7][328]\tbbox_mAP: 0.2360, bbox_mAP_50: 0.3680, bbox_mAP_75: 0.2420, bbox_mAP_s: 0.0510, bbox_mAP_m: 0.2060, bbox_mAP_l: 0.3920, bbox_mAP_copypaste: 0.236 0.368 0.242 0.051 0.206 0.392\n"
     ]
    },
    {
     "name": "stdout",
     "output_type": "stream",
     "text": [
      "DONE (t=1.81s).\n",
      "Average Precision  (AP) @[ IoU=0.50:0.95 | area=   all | maxDets=100 ] = 0.236\n",
      "Average Precision  (AP) @[ IoU=0.50      | area=   all | maxDets=1000 ] = 0.368\n",
      "Average Precision  (AP) @[ IoU=0.75      | area=   all | maxDets=1000 ] = 0.242\n",
      "Average Precision  (AP) @[ IoU=0.50:0.95 | area= small | maxDets=1000 ] = 0.051\n",
      "Average Precision  (AP) @[ IoU=0.50:0.95 | area=medium | maxDets=1000 ] = 0.206\n",
      "Average Precision  (AP) @[ IoU=0.50:0.95 | area= large | maxDets=1000 ] = 0.392\n",
      "Average Recall     (AR) @[ IoU=0.50:0.95 | area=   all | maxDets=100 ] = 0.404\n",
      "Average Recall     (AR) @[ IoU=0.50:0.95 | area=   all | maxDets=300 ] = 0.404\n",
      "Average Recall     (AR) @[ IoU=0.50:0.95 | area=   all | maxDets=1000 ] = 0.404\n",
      "Average Recall     (AR) @[ IoU=0.50:0.95 | area= small | maxDets=1000 ] = 0.120\n",
      "Average Recall     (AR) @[ IoU=0.50:0.95 | area=medium | maxDets=1000 ] = 0.372\n",
      "Average Recall     (AR) @[ IoU=0.50:0.95 | area= large | maxDets=1000 ] = 0.645\n"
     ]
    },
    {
     "name": "stderr",
     "output_type": "stream",
     "text": [
      "2021-05-19 21:51:09,304 - mmdet - INFO - Epoch [8][50/328]\tlr: 1.000e-02, eta: 1 day, 1:04:59, time: 7.091, data_time: 0.068, memory: 19673, loss_cls: 0.8808, loss_bbox: 0.3226, loss_bbox_rf: 0.4103, loss: 1.6138\n",
      "2021-05-19 21:56:59,349 - mmdet - INFO - Epoch [8][100/328]\tlr: 1.000e-02, eta: 1 day, 1:02:26, time: 7.001, data_time: 0.016, memory: 19673, loss_cls: 0.9033, loss_bbox: 0.3323, loss_bbox_rf: 0.4254, loss: 1.6609\n",
      "2021-05-19 22:02:51,820 - mmdet - INFO - Epoch [8][150/328]\tlr: 1.000e-02, eta: 1 day, 0:59:58, time: 7.049, data_time: 0.016, memory: 19673, loss_cls: 0.8799, loss_bbox: 0.3259, loss_bbox_rf: 0.4114, loss: 1.6171\n",
      "2021-05-19 22:08:42,855 - mmdet - INFO - Epoch [8][200/328]\tlr: 1.000e-02, eta: 1 day, 0:57:15, time: 7.021, data_time: 0.016, memory: 19673, loss_cls: 0.8667, loss_bbox: 0.3208, loss_bbox_rf: 0.4086, loss: 1.5961\n",
      "2021-05-19 22:14:27,257 - mmdet - INFO - Epoch [8][250/328]\tlr: 1.000e-02, eta: 1 day, 0:53:48, time: 6.888, data_time: 0.015, memory: 19673, loss_cls: 0.8653, loss_bbox: 0.3260, loss_bbox_rf: 0.4202, loss: 1.6115\n",
      "2021-05-19 22:20:17,999 - mmdet - INFO - Epoch [8][300/328]\tlr: 1.000e-02, eta: 1 day, 0:50:50, time: 7.015, data_time: 0.016, memory: 19673, loss_cls: 0.8824, loss_bbox: 0.3200, loss_bbox_rf: 0.4082, loss: 1.6105\n",
      "2021-05-19 22:23:34,161 - mmdet - INFO - Saving checkpoint at 8 epochs\n"
     ]
    },
    {
     "name": "stdout",
     "output_type": "stream",
     "text": [
      "[>>>>>>>>>>>>>>>>>>>>>>>>>>>>>>] 650/650, 7.9 task/s, elapsed: 82s, ETA:     0s"
     ]
    },
    {
     "name": "stderr",
     "output_type": "stream",
     "text": [
      "2021-05-19 22:24:58,769 - mmdet - INFO - Evaluating bbox...\n"
     ]
    },
    {
     "name": "stdout",
     "output_type": "stream",
     "text": [
      "Loading and preparing results...\n",
      "DONE (t=1.07s)\n",
      "creating index...\n",
      "index created!\n",
      "Running per image evaluation...\n",
      "Evaluate annotation type *bbox*\n",
      "DONE (t=8.98s).\n",
      "Accumulating evaluation results...\n",
      "DONE (t=1.57s).\n",
      "Average Precision  (AP) @[ IoU=0.50:0.95 | area=   all | maxDets=100 ] = 0.282\n",
      "Average Precision  (AP) @[ IoU=0.50      | area=   all | maxDets=1000 ] = 0.396\n",
      "Average Precision  (AP) @[ IoU=0.75      | area=   all | maxDets=1000 ] = 0.310\n",
      "Average Precision  (AP) @[ IoU=0.50:0.95 | area= small | maxDets=1000 ] = 0.077\n",
      "Average Precision  (AP) @[ IoU=0.50:0.95 | area=medium | maxDets=1000 ] = 0.244\n",
      "Average Precision  (AP) @[ IoU=0.50:0.95 | area= large | maxDets=1000 ] = 0.468\n",
      "Average Recall     (AR) @[ IoU=0.50:0.95 | area=   all | maxDets=100 ] = 0.453\n",
      "Average Recall     (AR) @[ IoU=0.50:0.95 | area=   all | maxDets=300 ] = 0.453\n",
      "Average Recall     (AR) @[ IoU=0.50:0.95 | area=   all | maxDets=1000 ] = 0.453\n",
      "Average Recall     (AR) @[ IoU=0.50:0.95 | area= small | maxDets=1000 ] = 0.152\n",
      "Average Recall     (AR) @[ IoU=0.50:0.95 | area=medium | maxDets=1000 ] = 0.423\n",
      "Average Recall     (AR) @[ IoU=0.50:0.95 | area= large | maxDets=1000 ] = 0.707\n"
     ]
    },
    {
     "name": "stderr",
     "output_type": "stream",
     "text": [
      "2021-05-19 22:25:15,280 - mmdet - INFO - Now best checkpoint is epoch_8.pth.Best bbox_mAP_50 is 0.3960\n",
      "2021-05-19 22:25:15,285 - mmdet - INFO - Epoch(val) [8][328]\tbbox_mAP: 0.2820, bbox_mAP_50: 0.3960, bbox_mAP_75: 0.3100, bbox_mAP_s: 0.0770, bbox_mAP_m: 0.2440, bbox_mAP_l: 0.4680, bbox_mAP_copypaste: 0.282 0.396 0.310 0.077 0.244 0.468\n",
      "2021-05-19 22:31:10,399 - mmdet - INFO - Epoch [9][50/328]\tlr: 1.000e-02, eta: 1 day, 0:29:32, time: 7.102, data_time: 0.068, memory: 19673, loss_cls: 0.8461, loss_bbox: 0.3192, loss_bbox_rf: 0.4084, loss: 1.5737\n",
      "2021-05-19 22:37:00,685 - mmdet - INFO - Epoch [9][100/328]\tlr: 1.000e-02, eta: 1 day, 0:26:37, time: 7.006, data_time: 0.016, memory: 19673, loss_cls: 0.8901, loss_bbox: 0.3211, loss_bbox_rf: 0.4055, loss: 1.6167\n",
      "2021-05-19 22:42:53,501 - mmdet - INFO - Epoch [9][150/328]\tlr: 1.000e-02, eta: 1 day, 0:23:48, time: 7.056, data_time: 0.016, memory: 19673, loss_cls: 0.8837, loss_bbox: 0.3189, loss_bbox_rf: 0.4067, loss: 1.6093\n",
      "2021-05-19 22:48:44,737 - mmdet - INFO - Epoch [9][200/328]\tlr: 1.000e-02, eta: 1 day, 0:20:45, time: 7.025, data_time: 0.016, memory: 19673, loss_cls: 0.8609, loss_bbox: 0.3036, loss_bbox_rf: 0.3882, loss: 1.5527\n",
      "2021-05-19 22:54:28,921 - mmdet - INFO - Epoch [9][250/328]\tlr: 1.000e-02, eta: 1 day, 0:17:03, time: 6.884, data_time: 0.015, memory: 19673, loss_cls: 0.8658, loss_bbox: 0.3287, loss_bbox_rf: 0.4186, loss: 1.6132\n",
      "2021-05-19 23:00:20,218 - mmdet - INFO - Epoch [9][300/328]\tlr: 1.000e-02, eta: 1 day, 0:13:49, time: 7.026, data_time: 0.016, memory: 19673, loss_cls: 0.8693, loss_bbox: 0.3257, loss_bbox_rf: 0.4163, loss: 1.6113\n",
      "2021-05-19 23:03:36,636 - mmdet - INFO - Saving checkpoint at 9 epochs\n"
     ]
    },
    {
     "name": "stdout",
     "output_type": "stream",
     "text": [
      "[>>>>>>>>>>>>>>>>>>>>>>>>>>>>>>] 650/650, 7.9 task/s, elapsed: 82s, ETA:     0s"
     ]
    },
    {
     "name": "stderr",
     "output_type": "stream",
     "text": [
      "2021-05-19 23:05:01,833 - mmdet - INFO - Evaluating bbox...\n"
     ]
    },
    {
     "name": "stdout",
     "output_type": "stream",
     "text": [
      "Loading and preparing results...\n",
      "DONE (t=1.15s)\n",
      "creating index...\n",
      "index created!\n",
      "Running per image evaluation...\n",
      "Evaluate annotation type *bbox*\n",
      "DONE (t=8.47s).\n",
      "Accumulating evaluation results...\n"
     ]
    },
    {
     "name": "stderr",
     "output_type": "stream",
     "text": [
      "2021-05-19 23:05:13,435 - mmdet - INFO - Epoch(val) [9][328]\tbbox_mAP: 0.2940, bbox_mAP_50: 0.3960, bbox_mAP_75: 0.3180, bbox_mAP_s: 0.0660, bbox_mAP_m: 0.2410, bbox_mAP_l: 0.5150, bbox_mAP_copypaste: 0.294 0.396 0.318 0.066 0.241 0.515\n"
     ]
    },
    {
     "name": "stdout",
     "output_type": "stream",
     "text": [
      "DONE (t=1.83s).\n",
      "Average Precision  (AP) @[ IoU=0.50:0.95 | area=   all | maxDets=100 ] = 0.294\n",
      "Average Precision  (AP) @[ IoU=0.50      | area=   all | maxDets=1000 ] = 0.396\n",
      "Average Precision  (AP) @[ IoU=0.75      | area=   all | maxDets=1000 ] = 0.318\n",
      "Average Precision  (AP) @[ IoU=0.50:0.95 | area= small | maxDets=1000 ] = 0.066\n",
      "Average Precision  (AP) @[ IoU=0.50:0.95 | area=medium | maxDets=1000 ] = 0.241\n",
      "Average Precision  (AP) @[ IoU=0.50:0.95 | area= large | maxDets=1000 ] = 0.515\n",
      "Average Recall     (AR) @[ IoU=0.50:0.95 | area=   all | maxDets=100 ] = 0.477\n",
      "Average Recall     (AR) @[ IoU=0.50:0.95 | area=   all | maxDets=300 ] = 0.477\n",
      "Average Recall     (AR) @[ IoU=0.50:0.95 | area=   all | maxDets=1000 ] = 0.477\n",
      "Average Recall     (AR) @[ IoU=0.50:0.95 | area= small | maxDets=1000 ] = 0.172\n",
      "Average Recall     (AR) @[ IoU=0.50:0.95 | area=medium | maxDets=1000 ] = 0.461\n",
      "Average Recall     (AR) @[ IoU=0.50:0.95 | area= large | maxDets=1000 ] = 0.716\n"
     ]
    },
    {
     "name": "stderr",
     "output_type": "stream",
     "text": [
      "2021-05-19 23:11:08,252 - mmdet - INFO - Epoch [10][50/328]\tlr: 1.000e-02, eta: 23:54:15, time: 7.096, data_time: 0.067, memory: 19673, loss_cls: 0.8638, loss_bbox: 0.3125, loss_bbox_rf: 0.4015, loss: 1.5777\n",
      "2021-05-19 23:16:58,453 - mmdet - INFO - Epoch [10][100/328]\tlr: 1.000e-02, eta: 23:51:01, time: 7.004, data_time: 0.016, memory: 19673, loss_cls: 0.8468, loss_bbox: 0.3141, loss_bbox_rf: 0.4035, loss: 1.5644\n",
      "2021-05-19 23:22:51,168 - mmdet - INFO - Epoch [10][150/328]\tlr: 1.000e-02, eta: 23:47:52, time: 7.054, data_time: 0.016, memory: 19673, loss_cls: 0.8897, loss_bbox: 0.3079, loss_bbox_rf: 0.3919, loss: 1.5895\n",
      "2021-05-19 23:28:42,352 - mmdet - INFO - Epoch [10][200/328]\tlr: 1.000e-02, eta: 23:44:32, time: 7.024, data_time: 0.015, memory: 19673, loss_cls: 0.8785, loss_bbox: 0.3108, loss_bbox_rf: 0.3923, loss: 1.5816\n",
      "2021-05-19 23:34:26,562 - mmdet - INFO - Epoch [10][250/328]\tlr: 1.000e-02, eta: 23:40:39, time: 6.884, data_time: 0.016, memory: 19673, loss_cls: 0.8882, loss_bbox: 0.3245, loss_bbox_rf: 0.4097, loss: 1.6224\n",
      "2021-05-19 23:40:17,553 - mmdet - INFO - Epoch [10][300/328]\tlr: 1.000e-02, eta: 23:37:09, time: 7.020, data_time: 0.016, memory: 19673, loss_cls: 0.8525, loss_bbox: 0.3177, loss_bbox_rf: 0.4059, loss: 1.5761\n",
      "2021-05-19 23:43:33,631 - mmdet - INFO - Saving checkpoint at 10 epochs\n"
     ]
    },
    {
     "name": "stdout",
     "output_type": "stream",
     "text": [
      "[>>>>>>>>>>>>>>>>>>>>>>>>>>>>>>] 650/650, 8.0 task/s, elapsed: 81s, ETA:     0s"
     ]
    },
    {
     "name": "stderr",
     "output_type": "stream",
     "text": [
      "2021-05-19 23:44:57,940 - mmdet - INFO - Evaluating bbox...\n"
     ]
    },
    {
     "name": "stdout",
     "output_type": "stream",
     "text": [
      "Loading and preparing results...\n",
      "DONE (t=0.69s)\n",
      "creating index...\n",
      "index created!\n",
      "Running per image evaluation...\n",
      "Evaluate annotation type *bbox*\n",
      "DONE (t=8.71s).\n",
      "Accumulating evaluation results...\n"
     ]
    },
    {
     "name": "stderr",
     "output_type": "stream",
     "text": [
      "2021-05-19 23:45:09,229 - mmdet - INFO - Epoch(val) [10][328]\tbbox_mAP: 0.2680, bbox_mAP_50: 0.3520, bbox_mAP_75: 0.2890, bbox_mAP_s: 0.0680, bbox_mAP_m: 0.2290, bbox_mAP_l: 0.4680, bbox_mAP_copypaste: 0.268 0.352 0.289 0.068 0.229 0.468\n"
     ]
    },
    {
     "name": "stdout",
     "output_type": "stream",
     "text": [
      "DONE (t=1.75s).\n",
      "Average Precision  (AP) @[ IoU=0.50:0.95 | area=   all | maxDets=100 ] = 0.268\n",
      "Average Precision  (AP) @[ IoU=0.50      | area=   all | maxDets=1000 ] = 0.352\n",
      "Average Precision  (AP) @[ IoU=0.75      | area=   all | maxDets=1000 ] = 0.289\n",
      "Average Precision  (AP) @[ IoU=0.50:0.95 | area= small | maxDets=1000 ] = 0.068\n",
      "Average Precision  (AP) @[ IoU=0.50:0.95 | area=medium | maxDets=1000 ] = 0.229\n",
      "Average Precision  (AP) @[ IoU=0.50:0.95 | area= large | maxDets=1000 ] = 0.468\n",
      "Average Recall     (AR) @[ IoU=0.50:0.95 | area=   all | maxDets=100 ] = 0.445\n",
      "Average Recall     (AR) @[ IoU=0.50:0.95 | area=   all | maxDets=300 ] = 0.445\n",
      "Average Recall     (AR) @[ IoU=0.50:0.95 | area=   all | maxDets=1000 ] = 0.445\n",
      "Average Recall     (AR) @[ IoU=0.50:0.95 | area= small | maxDets=1000 ] = 0.138\n",
      "Average Recall     (AR) @[ IoU=0.50:0.95 | area=medium | maxDets=1000 ] = 0.406\n",
      "Average Recall     (AR) @[ IoU=0.50:0.95 | area= large | maxDets=1000 ] = 0.716\n"
     ]
    },
    {
     "name": "stderr",
     "output_type": "stream",
     "text": [
      "2021-05-19 23:51:04,656 - mmdet - INFO - Epoch [11][50/328]\tlr: 1.000e-02, eta: 23:19:00, time: 7.108, data_time: 0.071, memory: 19673, loss_cls: 0.8467, loss_bbox: 0.3090, loss_bbox_rf: 0.3953, loss: 1.5509\n",
      "2021-05-19 23:56:54,940 - mmdet - INFO - Epoch [11][100/328]\tlr: 1.000e-02, eta: 23:15:31, time: 7.006, data_time: 0.015, memory: 19673, loss_cls: 0.8535, loss_bbox: 0.2966, loss_bbox_rf: 0.3819, loss: 1.5319\n",
      "2021-05-20 00:02:47,771 - mmdet - INFO - Epoch [11][150/328]\tlr: 1.000e-02, eta: 23:12:08, time: 7.057, data_time: 0.016, memory: 19673, loss_cls: 0.8662, loss_bbox: 0.3201, loss_bbox_rf: 0.4096, loss: 1.5959\n",
      "2021-05-20 00:08:39,157 - mmdet - INFO - Epoch [11][200/328]\tlr: 1.000e-02, eta: 23:08:35, time: 7.028, data_time: 0.016, memory: 19673, loss_cls: 0.8417, loss_bbox: 0.2961, loss_bbox_rf: 0.3799, loss: 1.5177\n",
      "2021-05-20 00:14:23,386 - mmdet - INFO - Epoch [11][250/328]\tlr: 1.000e-02, eta: 23:04:32, time: 6.885, data_time: 0.016, memory: 19673, loss_cls: 0.8959, loss_bbox: 0.3166, loss_bbox_rf: 0.3985, loss: 1.6111\n",
      "2021-05-20 00:20:14,507 - mmdet - INFO - Epoch [11][300/328]\tlr: 1.000e-02, eta: 23:00:51, time: 7.022, data_time: 0.016, memory: 19673, loss_cls: 0.8374, loss_bbox: 0.3155, loss_bbox_rf: 0.4044, loss: 1.5573\n",
      "2021-05-20 00:23:30,807 - mmdet - INFO - Saving checkpoint at 11 epochs\n"
     ]
    },
    {
     "name": "stdout",
     "output_type": "stream",
     "text": [
      "[>>>>>>>>>>>>>>>>>>>>>>>>>>>>>>] 650/650, 8.1 task/s, elapsed: 81s, ETA:     0s"
     ]
    },
    {
     "name": "stderr",
     "output_type": "stream",
     "text": [
      "2021-05-20 00:24:54,895 - mmdet - INFO - Evaluating bbox...\n"
     ]
    },
    {
     "name": "stdout",
     "output_type": "stream",
     "text": [
      "Loading and preparing results...\n",
      "DONE (t=0.69s)\n",
      "creating index...\n",
      "index created!\n",
      "Running per image evaluation...\n",
      "Evaluate annotation type *bbox*\n",
      "DONE (t=9.16s).\n",
      "Accumulating evaluation results...\n",
      "DONE (t=1.74s).\n",
      "Average Precision  (AP) @[ IoU=0.50:0.95 | area=   all | maxDets=100 ] = 0.295\n",
      "Average Precision  (AP) @[ IoU=0.50      | area=   all | maxDets=1000 ] = 0.409\n",
      "Average Precision  (AP) @[ IoU=0.75      | area=   all | maxDets=1000 ] = 0.312\n",
      "Average Precision  (AP) @[ IoU=0.50:0.95 | area= small | maxDets=1000 ] = 0.069\n",
      "Average Precision  (AP) @[ IoU=0.50:0.95 | area=medium | maxDets=1000 ] = 0.240\n",
      "Average Precision  (AP) @[ IoU=0.50:0.95 | area= large | maxDets=1000 ] = 0.513\n",
      "Average Recall     (AR) @[ IoU=0.50:0.95 | area=   all | maxDets=100 ] = 0.464\n",
      "Average Recall     (AR) @[ IoU=0.50:0.95 | area=   all | maxDets=300 ] = 0.464\n",
      "Average Recall     (AR) @[ IoU=0.50:0.95 | area=   all | maxDets=1000 ] = 0.464\n",
      "Average Recall     (AR) @[ IoU=0.50:0.95 | area= small | maxDets=1000 ] = 0.163\n",
      "Average Recall     (AR) @[ IoU=0.50:0.95 | area=medium | maxDets=1000 ] = 0.430\n",
      "Average Recall     (AR) @[ IoU=0.50:0.95 | area= large | maxDets=1000 ] = 0.734\n"
     ]
    },
    {
     "name": "stderr",
     "output_type": "stream",
     "text": [
      "2021-05-20 00:25:11,417 - mmdet - INFO - Now best checkpoint is epoch_11.pth.Best bbox_mAP_50 is 0.4090\n",
      "2021-05-20 00:25:11,423 - mmdet - INFO - Epoch(val) [11][328]\tbbox_mAP: 0.2950, bbox_mAP_50: 0.4090, bbox_mAP_75: 0.3120, bbox_mAP_s: 0.0690, bbox_mAP_m: 0.2400, bbox_mAP_l: 0.5130, bbox_mAP_copypaste: 0.295 0.409 0.312 0.069 0.240 0.513\n",
      "2021-05-20 00:31:06,820 - mmdet - INFO - Epoch [12][50/328]\tlr: 1.000e-02, eta: 22:43:49, time: 7.108, data_time: 0.069, memory: 19673, loss_cls: 0.8336, loss_bbox: 0.3042, loss_bbox_rf: 0.3883, loss: 1.5261\n",
      "2021-05-20 00:36:56,971 - mmdet - INFO - Epoch [12][100/328]\tlr: 1.000e-02, eta: 22:40:07, time: 7.003, data_time: 0.016, memory: 19673, loss_cls: 0.8675, loss_bbox: 0.3062, loss_bbox_rf: 0.3927, loss: 1.5664\n",
      "2021-05-20 00:42:49,966 - mmdet - INFO - Epoch [12][150/328]\tlr: 1.000e-02, eta: 22:36:32, time: 7.060, data_time: 0.016, memory: 19673, loss_cls: 0.8659, loss_bbox: 0.3127, loss_bbox_rf: 0.3986, loss: 1.5772\n",
      "2021-05-20 00:48:41,060 - mmdet - INFO - Epoch [12][200/328]\tlr: 1.000e-02, eta: 22:32:46, time: 7.022, data_time: 0.016, memory: 19673, loss_cls: 0.8688, loss_bbox: 0.2955, loss_bbox_rf: 0.3756, loss: 1.5398\n",
      "2021-05-20 00:54:25,627 - mmdet - INFO - Epoch [12][250/328]\tlr: 1.000e-02, eta: 22:28:36, time: 6.891, data_time: 0.016, memory: 19673, loss_cls: 0.8410, loss_bbox: 0.3143, loss_bbox_rf: 0.3996, loss: 1.5548\n",
      "2021-05-20 01:00:16,804 - mmdet - INFO - Epoch [12][300/328]\tlr: 1.000e-02, eta: 22:24:45, time: 7.024, data_time: 0.016, memory: 19673, loss_cls: 0.8422, loss_bbox: 0.3202, loss_bbox_rf: 0.4017, loss: 1.5641\n",
      "2021-05-20 01:03:33,067 - mmdet - INFO - Saving checkpoint at 12 epochs\n"
     ]
    },
    {
     "name": "stdout",
     "output_type": "stream",
     "text": [
      "[>>>>>>>>>>>>>>>>>>>>>>>>>>>>>>] 650/650, 8.1 task/s, elapsed: 81s, ETA:     0s"
     ]
    },
    {
     "name": "stderr",
     "output_type": "stream",
     "text": [
      "2021-05-20 01:04:57,153 - mmdet - INFO - Evaluating bbox...\n"
     ]
    },
    {
     "name": "stdout",
     "output_type": "stream",
     "text": [
      "Loading and preparing results...\n",
      "DONE (t=1.10s)\n",
      "creating index...\n",
      "index created!\n",
      "Running per image evaluation...\n",
      "Evaluate annotation type *bbox*\n",
      "DONE (t=8.87s).\n",
      "Accumulating evaluation results...\n"
     ]
    },
    {
     "name": "stderr",
     "output_type": "stream",
     "text": [
      "2021-05-20 01:05:09,121 - mmdet - INFO - Epoch(val) [12][328]\tbbox_mAP: 0.2950, bbox_mAP_50: 0.4070, bbox_mAP_75: 0.3160, bbox_mAP_s: 0.0690, bbox_mAP_m: 0.2680, bbox_mAP_l: 0.4960, bbox_mAP_copypaste: 0.295 0.407 0.316 0.069 0.268 0.496\n"
     ]
    },
    {
     "name": "stdout",
     "output_type": "stream",
     "text": [
      "DONE (t=1.85s).\n",
      "Average Precision  (AP) @[ IoU=0.50:0.95 | area=   all | maxDets=100 ] = 0.295\n",
      "Average Precision  (AP) @[ IoU=0.50      | area=   all | maxDets=1000 ] = 0.407\n",
      "Average Precision  (AP) @[ IoU=0.75      | area=   all | maxDets=1000 ] = 0.316\n",
      "Average Precision  (AP) @[ IoU=0.50:0.95 | area= small | maxDets=1000 ] = 0.069\n",
      "Average Precision  (AP) @[ IoU=0.50:0.95 | area=medium | maxDets=1000 ] = 0.268\n",
      "Average Precision  (AP) @[ IoU=0.50:0.95 | area= large | maxDets=1000 ] = 0.496\n",
      "Average Recall     (AR) @[ IoU=0.50:0.95 | area=   all | maxDets=100 ] = 0.481\n",
      "Average Recall     (AR) @[ IoU=0.50:0.95 | area=   all | maxDets=300 ] = 0.481\n",
      "Average Recall     (AR) @[ IoU=0.50:0.95 | area=   all | maxDets=1000 ] = 0.481\n",
      "Average Recall     (AR) @[ IoU=0.50:0.95 | area= small | maxDets=1000 ] = 0.171\n",
      "Average Recall     (AR) @[ IoU=0.50:0.95 | area=medium | maxDets=1000 ] = 0.465\n",
      "Average Recall     (AR) @[ IoU=0.50:0.95 | area= large | maxDets=1000 ] = 0.709\n"
     ]
    },
    {
     "name": "stderr",
     "output_type": "stream",
     "text": [
      "2021-05-20 01:11:04,623 - mmdet - INFO - Epoch [13][50/328]\tlr: 1.000e-02, eta: 22:08:39, time: 7.110, data_time: 0.068, memory: 19673, loss_cls: 0.8363, loss_bbox: 0.3158, loss_bbox_rf: 0.4016, loss: 1.5537\n",
      "2021-05-20 01:16:54,921 - mmdet - INFO - Epoch [13][100/328]\tlr: 1.000e-02, eta: 22:04:48, time: 7.006, data_time: 0.016, memory: 19673, loss_cls: 0.8535, loss_bbox: 0.3203, loss_bbox_rf: 0.3995, loss: 1.5734\n",
      "2021-05-20 01:22:47,927 - mmdet - INFO - Epoch [13][150/328]\tlr: 1.000e-02, eta: 22:01:01, time: 7.060, data_time: 0.016, memory: 19673, loss_cls: 0.8539, loss_bbox: 0.3022, loss_bbox_rf: 0.3872, loss: 1.5433\n",
      "2021-05-20 01:28:39,565 - mmdet - INFO - Epoch [13][200/328]\tlr: 1.000e-02, eta: 21:57:08, time: 7.033, data_time: 0.016, memory: 19673, loss_cls: 0.8580, loss_bbox: 0.2920, loss_bbox_rf: 0.3718, loss: 1.5218\n",
      "2021-05-20 01:34:24,464 - mmdet - INFO - Epoch [13][250/328]\tlr: 1.000e-02, eta: 21:52:52, time: 6.898, data_time: 0.016, memory: 19673, loss_cls: 0.8257, loss_bbox: 0.3078, loss_bbox_rf: 0.3876, loss: 1.5210\n",
      "2021-05-20 01:40:16,111 - mmdet - INFO - Epoch [13][300/328]\tlr: 1.000e-02, eta: 21:48:53, time: 7.033, data_time: 0.016, memory: 19673, loss_cls: 0.8539, loss_bbox: 0.3044, loss_bbox_rf: 0.3901, loss: 1.5484\n",
      "2021-05-20 01:43:32,560 - mmdet - INFO - Saving checkpoint at 13 epochs\n"
     ]
    },
    {
     "name": "stdout",
     "output_type": "stream",
     "text": [
      "[>>>>>>>>>>>>>>>>>>>>>>>>>>>>>>] 650/650, 8.1 task/s, elapsed: 81s, ETA:     0s"
     ]
    },
    {
     "name": "stderr",
     "output_type": "stream",
     "text": [
      "2021-05-20 01:44:56,132 - mmdet - INFO - Evaluating bbox...\n"
     ]
    },
    {
     "name": "stdout",
     "output_type": "stream",
     "text": [
      "Loading and preparing results...\n",
      "DONE (t=1.11s)\n",
      "creating index...\n",
      "index created!\n",
      "Running per image evaluation...\n",
      "Evaluate annotation type *bbox*\n",
      "DONE (t=8.85s).\n",
      "Accumulating evaluation results...\n"
     ]
    },
    {
     "name": "stderr",
     "output_type": "stream",
     "text": [
      "2021-05-20 01:45:08,038 - mmdet - INFO - Epoch(val) [13][328]\tbbox_mAP: 0.2520, bbox_mAP_50: 0.3520, bbox_mAP_75: 0.2580, bbox_mAP_s: 0.0680, bbox_mAP_m: 0.2230, bbox_mAP_l: 0.4370, bbox_mAP_copypaste: 0.252 0.352 0.258 0.068 0.223 0.437\n"
     ]
    },
    {
     "name": "stdout",
     "output_type": "stream",
     "text": [
      "DONE (t=1.81s).\n",
      "Average Precision  (AP) @[ IoU=0.50:0.95 | area=   all | maxDets=100 ] = 0.252\n",
      "Average Precision  (AP) @[ IoU=0.50      | area=   all | maxDets=1000 ] = 0.352\n",
      "Average Precision  (AP) @[ IoU=0.75      | area=   all | maxDets=1000 ] = 0.258\n",
      "Average Precision  (AP) @[ IoU=0.50:0.95 | area= small | maxDets=1000 ] = 0.068\n",
      "Average Precision  (AP) @[ IoU=0.50:0.95 | area=medium | maxDets=1000 ] = 0.223\n",
      "Average Precision  (AP) @[ IoU=0.50:0.95 | area= large | maxDets=1000 ] = 0.437\n",
      "Average Recall     (AR) @[ IoU=0.50:0.95 | area=   all | maxDets=100 ] = 0.447\n",
      "Average Recall     (AR) @[ IoU=0.50:0.95 | area=   all | maxDets=300 ] = 0.447\n",
      "Average Recall     (AR) @[ IoU=0.50:0.95 | area=   all | maxDets=1000 ] = 0.447\n",
      "Average Recall     (AR) @[ IoU=0.50:0.95 | area= small | maxDets=1000 ] = 0.162\n",
      "Average Recall     (AR) @[ IoU=0.50:0.95 | area=medium | maxDets=1000 ] = 0.415\n",
      "Average Recall     (AR) @[ IoU=0.50:0.95 | area= large | maxDets=1000 ] = 0.686\n"
     ]
    },
    {
     "name": "stderr",
     "output_type": "stream",
     "text": [
      "2021-05-20 01:51:03,398 - mmdet - INFO - Epoch [14][50/328]\tlr: 1.000e-02, eta: 21:33:34, time: 7.107, data_time: 0.068, memory: 19673, loss_cls: 0.8379, loss_bbox: 0.3075, loss_bbox_rf: 0.3932, loss: 1.5386\n",
      "2021-05-20 01:56:54,100 - mmdet - INFO - Epoch [14][100/328]\tlr: 1.000e-02, eta: 21:29:35, time: 7.014, data_time: 0.016, memory: 19673, loss_cls: 0.8358, loss_bbox: 0.2967, loss_bbox_rf: 0.3798, loss: 1.5124\n",
      "2021-05-20 02:02:47,163 - mmdet - INFO - Epoch [14][150/328]\tlr: 1.000e-02, eta: 21:25:39, time: 7.061, data_time: 0.016, memory: 19673, loss_cls: 0.8525, loss_bbox: 0.2912, loss_bbox_rf: 0.3740, loss: 1.5177\n",
      "2021-05-20 02:08:38,794 - mmdet - INFO - Epoch [14][200/328]\tlr: 1.000e-02, eta: 21:21:37, time: 7.033, data_time: 0.016, memory: 19673, loss_cls: 0.8493, loss_bbox: 0.2745, loss_bbox_rf: 0.3515, loss: 1.4753\n",
      "2021-05-20 02:14:23,365 - mmdet - INFO - Epoch [14][250/328]\tlr: 1.000e-02, eta: 21:17:14, time: 6.891, data_time: 0.016, memory: 19673, loss_cls: 0.8460, loss_bbox: 0.2927, loss_bbox_rf: 0.3770, loss: 1.5158\n",
      "2021-05-20 02:20:14,923 - mmdet - INFO - Epoch [14][300/328]\tlr: 1.000e-02, eta: 21:13:08, time: 7.031, data_time: 0.016, memory: 19673, loss_cls: 0.8323, loss_bbox: 0.2942, loss_bbox_rf: 0.3774, loss: 1.5039\n",
      "2021-05-20 02:23:31,180 - mmdet - INFO - Saving checkpoint at 14 epochs\n"
     ]
    },
    {
     "name": "stdout",
     "output_type": "stream",
     "text": [
      "[>>>>>>>>>>>>>>>>>>>>>>>>>>>>>>] 650/650, 7.9 task/s, elapsed: 82s, ETA:     0s"
     ]
    },
    {
     "name": "stderr",
     "output_type": "stream",
     "text": [
      "2021-05-20 02:24:56,324 - mmdet - INFO - Evaluating bbox...\n"
     ]
    },
    {
     "name": "stdout",
     "output_type": "stream",
     "text": [
      "Loading and preparing results...\n",
      "DONE (t=0.66s)\n",
      "creating index...\n",
      "index created!\n",
      "Running per image evaluation...\n",
      "Evaluate annotation type *bbox*\n",
      "DONE (t=8.65s).\n",
      "Accumulating evaluation results...\n"
     ]
    },
    {
     "name": "stderr",
     "output_type": "stream",
     "text": [
      "2021-05-20 02:25:07,488 - mmdet - INFO - Epoch(val) [14][328]\tbbox_mAP: 0.2970, bbox_mAP_50: 0.3960, bbox_mAP_75: 0.3080, bbox_mAP_s: 0.0670, bbox_mAP_m: 0.2630, bbox_mAP_l: 0.5060, bbox_mAP_copypaste: 0.297 0.396 0.308 0.067 0.263 0.506\n"
     ]
    },
    {
     "name": "stdout",
     "output_type": "stream",
     "text": [
      "DONE (t=1.73s).\n",
      "Average Precision  (AP) @[ IoU=0.50:0.95 | area=   all | maxDets=100 ] = 0.297\n",
      "Average Precision  (AP) @[ IoU=0.50      | area=   all | maxDets=1000 ] = 0.396\n",
      "Average Precision  (AP) @[ IoU=0.75      | area=   all | maxDets=1000 ] = 0.308\n",
      "Average Precision  (AP) @[ IoU=0.50:0.95 | area= small | maxDets=1000 ] = 0.067\n",
      "Average Precision  (AP) @[ IoU=0.50:0.95 | area=medium | maxDets=1000 ] = 0.263\n",
      "Average Precision  (AP) @[ IoU=0.50:0.95 | area= large | maxDets=1000 ] = 0.506\n",
      "Average Recall     (AR) @[ IoU=0.50:0.95 | area=   all | maxDets=100 ] = 0.491\n",
      "Average Recall     (AR) @[ IoU=0.50:0.95 | area=   all | maxDets=300 ] = 0.491\n",
      "Average Recall     (AR) @[ IoU=0.50:0.95 | area=   all | maxDets=1000 ] = 0.491\n",
      "Average Recall     (AR) @[ IoU=0.50:0.95 | area= small | maxDets=1000 ] = 0.143\n",
      "Average Recall     (AR) @[ IoU=0.50:0.95 | area=medium | maxDets=1000 ] = 0.504\n",
      "Average Recall     (AR) @[ IoU=0.50:0.95 | area= large | maxDets=1000 ] = 0.771\n"
     ]
    },
    {
     "name": "stderr",
     "output_type": "stream",
     "text": [
      "2021-05-20 02:31:02,858 - mmdet - INFO - Epoch [15][50/328]\tlr: 1.000e-02, eta: 20:58:29, time: 7.107, data_time: 0.068, memory: 19673, loss_cls: 0.8109, loss_bbox: 0.2912, loss_bbox_rf: 0.3732, loss: 1.4753\n",
      "2021-05-20 02:36:53,690 - mmdet - INFO - Epoch [15][100/328]\tlr: 1.000e-02, eta: 20:54:22, time: 7.017, data_time: 0.016, memory: 19673, loss_cls: 0.8288, loss_bbox: 0.3006, loss_bbox_rf: 0.3825, loss: 1.5119\n",
      "2021-05-20 02:42:46,694 - mmdet - INFO - Epoch [15][150/328]\tlr: 1.000e-02, eta: 20:50:19, time: 7.060, data_time: 0.017, memory: 19673, loss_cls: 0.8380, loss_bbox: 0.2927, loss_bbox_rf: 0.3746, loss: 1.5053\n",
      "2021-05-20 02:48:38,000 - mmdet - INFO - Epoch [15][200/328]\tlr: 1.000e-02, eta: 20:46:08, time: 7.026, data_time: 0.016, memory: 19673, loss_cls: 0.8352, loss_bbox: 0.2872, loss_bbox_rf: 0.3657, loss: 1.4881\n",
      "2021-05-20 02:54:22,556 - mmdet - INFO - Epoch [15][250/328]\tlr: 1.000e-02, eta: 20:41:40, time: 6.891, data_time: 0.016, memory: 19673, loss_cls: 0.8381, loss_bbox: 0.2957, loss_bbox_rf: 0.3803, loss: 1.5142\n",
      "2021-05-20 03:00:13,739 - mmdet - INFO - Epoch [15][300/328]\tlr: 1.000e-02, eta: 20:37:26, time: 7.024, data_time: 0.016, memory: 19673, loss_cls: 0.8823, loss_bbox: 0.2808, loss_bbox_rf: 0.3607, loss: 1.5238\n",
      "2021-05-20 03:03:30,128 - mmdet - INFO - Saving checkpoint at 15 epochs\n"
     ]
    },
    {
     "name": "stdout",
     "output_type": "stream",
     "text": [
      "[>>>>>>>>>>>>>>>>>>>>>>>>>>>>>>] 650/650, 7.6 task/s, elapsed: 86s, ETA:     0s"
     ]
    },
    {
     "name": "stderr",
     "output_type": "stream",
     "text": [
      "2021-05-20 03:04:59,289 - mmdet - INFO - Evaluating bbox...\n"
     ]
    },
    {
     "name": "stdout",
     "output_type": "stream",
     "text": [
      "Loading and preparing results...\n",
      "DONE (t=0.68s)\n",
      "creating index...\n",
      "index created!\n",
      "Running per image evaluation...\n",
      "Evaluate annotation type *bbox*\n",
      "DONE (t=9.09s).\n",
      "Accumulating evaluation results...\n"
     ]
    },
    {
     "name": "stderr",
     "output_type": "stream",
     "text": [
      "2021-05-20 03:05:10,953 - mmdet - INFO - Epoch(val) [15][328]\tbbox_mAP: 0.2970, bbox_mAP_50: 0.3990, bbox_mAP_75: 0.3170, bbox_mAP_s: 0.0640, bbox_mAP_m: 0.2430, bbox_mAP_l: 0.5170, bbox_mAP_copypaste: 0.297 0.399 0.317 0.064 0.243 0.517\n"
     ]
    },
    {
     "name": "stdout",
     "output_type": "stream",
     "text": [
      "DONE (t=1.76s).\n",
      "Average Precision  (AP) @[ IoU=0.50:0.95 | area=   all | maxDets=100 ] = 0.297\n",
      "Average Precision  (AP) @[ IoU=0.50      | area=   all | maxDets=1000 ] = 0.399\n",
      "Average Precision  (AP) @[ IoU=0.75      | area=   all | maxDets=1000 ] = 0.317\n",
      "Average Precision  (AP) @[ IoU=0.50:0.95 | area= small | maxDets=1000 ] = 0.064\n",
      "Average Precision  (AP) @[ IoU=0.50:0.95 | area=medium | maxDets=1000 ] = 0.243\n",
      "Average Precision  (AP) @[ IoU=0.50:0.95 | area= large | maxDets=1000 ] = 0.517\n",
      "Average Recall     (AR) @[ IoU=0.50:0.95 | area=   all | maxDets=100 ] = 0.476\n",
      "Average Recall     (AR) @[ IoU=0.50:0.95 | area=   all | maxDets=300 ] = 0.476\n",
      "Average Recall     (AR) @[ IoU=0.50:0.95 | area=   all | maxDets=1000 ] = 0.476\n",
      "Average Recall     (AR) @[ IoU=0.50:0.95 | area= small | maxDets=1000 ] = 0.162\n",
      "Average Recall     (AR) @[ IoU=0.50:0.95 | area=medium | maxDets=1000 ] = 0.454\n",
      "Average Recall     (AR) @[ IoU=0.50:0.95 | area= large | maxDets=1000 ] = 0.733\n"
     ]
    },
    {
     "name": "stderr",
     "output_type": "stream",
     "text": [
      "2021-05-20 03:11:06,337 - mmdet - INFO - Epoch [16][50/328]\tlr: 1.000e-02, eta: 20:23:22, time: 7.107, data_time: 0.070, memory: 19673, loss_cls: 0.8264, loss_bbox: 0.2798, loss_bbox_rf: 0.3566, loss: 1.4628\n",
      "2021-05-20 03:16:57,257 - mmdet - INFO - Epoch [16][100/328]\tlr: 1.000e-02, eta: 20:19:09, time: 7.018, data_time: 0.016, memory: 19673, loss_cls: 0.8150, loss_bbox: 0.2920, loss_bbox_rf: 0.3750, loss: 1.4820\n",
      "2021-05-20 03:22:50,250 - mmdet - INFO - Epoch [16][150/328]\tlr: 1.000e-02, eta: 20:14:58, time: 7.060, data_time: 0.016, memory: 19673, loss_cls: 0.8387, loss_bbox: 0.2770, loss_bbox_rf: 0.3537, loss: 1.4694\n",
      "2021-05-20 03:28:42,081 - mmdet - INFO - Epoch [16][200/328]\tlr: 1.000e-02, eta: 20:10:43, time: 7.037, data_time: 0.017, memory: 19673, loss_cls: 0.8373, loss_bbox: 0.2949, loss_bbox_rf: 0.3756, loss: 1.5078\n",
      "2021-05-20 03:34:26,897 - mmdet - INFO - Epoch [16][250/328]\tlr: 1.000e-02, eta: 20:06:10, time: 6.896, data_time: 0.016, memory: 19673, loss_cls: 0.8533, loss_bbox: 0.2948, loss_bbox_rf: 0.3775, loss: 1.5256\n",
      "2021-05-20 03:40:18,294 - mmdet - INFO - Epoch [16][300/328]\tlr: 1.000e-02, eta: 20:01:51, time: 7.028, data_time: 0.016, memory: 19673, loss_cls: 0.8341, loss_bbox: 0.2974, loss_bbox_rf: 0.3819, loss: 1.5135\n",
      "2021-05-20 03:43:34,549 - mmdet - INFO - Saving checkpoint at 16 epochs\n"
     ]
    },
    {
     "name": "stdout",
     "output_type": "stream",
     "text": [
      "[>>>>>>>>>>>>>>>>>>>>>>>>>>>>>>] 650/650, 7.9 task/s, elapsed: 83s, ETA:     0s"
     ]
    },
    {
     "name": "stderr",
     "output_type": "stream",
     "text": [
      "2021-05-20 03:45:00,459 - mmdet - INFO - Evaluating bbox...\n"
     ]
    },
    {
     "name": "stdout",
     "output_type": "stream",
     "text": [
      "Loading and preparing results...\n",
      "DONE (t=1.09s)\n",
      "creating index...\n",
      "index created!\n",
      "Running per image evaluation...\n",
      "Evaluate annotation type *bbox*\n",
      "DONE (t=8.77s).\n",
      "Accumulating evaluation results...\n"
     ]
    },
    {
     "name": "stderr",
     "output_type": "stream",
     "text": [
      "2021-05-20 03:45:12,180 - mmdet - INFO - Epoch(val) [16][328]\tbbox_mAP: 0.3020, bbox_mAP_50: 0.4020, bbox_mAP_75: 0.3170, bbox_mAP_s: 0.0700, bbox_mAP_m: 0.2530, bbox_mAP_l: 0.5110, bbox_mAP_copypaste: 0.302 0.402 0.317 0.070 0.253 0.511\n"
     ]
    },
    {
     "name": "stdout",
     "output_type": "stream",
     "text": [
      "DONE (t=1.73s).\n",
      "Average Precision  (AP) @[ IoU=0.50:0.95 | area=   all | maxDets=100 ] = 0.302\n",
      "Average Precision  (AP) @[ IoU=0.50      | area=   all | maxDets=1000 ] = 0.402\n",
      "Average Precision  (AP) @[ IoU=0.75      | area=   all | maxDets=1000 ] = 0.317\n",
      "Average Precision  (AP) @[ IoU=0.50:0.95 | area= small | maxDets=1000 ] = 0.070\n",
      "Average Precision  (AP) @[ IoU=0.50:0.95 | area=medium | maxDets=1000 ] = 0.253\n",
      "Average Precision  (AP) @[ IoU=0.50:0.95 | area= large | maxDets=1000 ] = 0.511\n",
      "Average Recall     (AR) @[ IoU=0.50:0.95 | area=   all | maxDets=100 ] = 0.472\n",
      "Average Recall     (AR) @[ IoU=0.50:0.95 | area=   all | maxDets=300 ] = 0.472\n",
      "Average Recall     (AR) @[ IoU=0.50:0.95 | area=   all | maxDets=1000 ] = 0.472\n",
      "Average Recall     (AR) @[ IoU=0.50:0.95 | area= small | maxDets=1000 ] = 0.160\n",
      "Average Recall     (AR) @[ IoU=0.50:0.95 | area=medium | maxDets=1000 ] = 0.456\n",
      "Average Recall     (AR) @[ IoU=0.50:0.95 | area= large | maxDets=1000 ] = 0.724\n"
     ]
    },
    {
     "name": "stderr",
     "output_type": "stream",
     "text": [
      "2021-05-20 03:51:07,575 - mmdet - INFO - Epoch [17][50/328]\tlr: 1.000e-03, eta: 19:48:18, time: 7.107, data_time: 0.068, memory: 19673, loss_cls: 0.7977, loss_bbox: 0.2684, loss_bbox_rf: 0.3495, loss: 1.4156\n",
      "2021-05-20 03:56:58,237 - mmdet - INFO - Epoch [17][100/328]\tlr: 1.000e-03, eta: 19:43:58, time: 7.013, data_time: 0.016, memory: 19673, loss_cls: 0.7534, loss_bbox: 0.2630, loss_bbox_rf: 0.3436, loss: 1.3599\n",
      "2021-05-20 04:02:51,380 - mmdet - INFO - Epoch [17][150/328]\tlr: 1.000e-03, eta: 19:39:41, time: 7.063, data_time: 0.016, memory: 19673, loss_cls: 0.7503, loss_bbox: 0.2611, loss_bbox_rf: 0.3397, loss: 1.3512\n",
      "2021-05-20 04:08:42,907 - mmdet - INFO - Epoch [17][200/328]\tlr: 1.000e-03, eta: 19:35:20, time: 7.031, data_time: 0.016, memory: 19673, loss_cls: 0.7429, loss_bbox: 0.2529, loss_bbox_rf: 0.3286, loss: 1.3245\n",
      "2021-05-20 04:14:27,572 - mmdet - INFO - Epoch [17][250/328]\tlr: 1.000e-03, eta: 19:30:43, time: 6.893, data_time: 0.016, memory: 19673, loss_cls: 0.7472, loss_bbox: 0.2490, loss_bbox_rf: 0.3239, loss: 1.3201\n",
      "2021-05-20 04:20:19,047 - mmdet - INFO - Epoch [17][300/328]\tlr: 1.000e-03, eta: 19:26:18, time: 7.029, data_time: 0.016, memory: 19673, loss_cls: 0.7576, loss_bbox: 0.2566, loss_bbox_rf: 0.3348, loss: 1.3491\n",
      "2021-05-20 04:23:35,558 - mmdet - INFO - Saving checkpoint at 17 epochs\n"
     ]
    },
    {
     "name": "stdout",
     "output_type": "stream",
     "text": [
      "[>>>>>>>>>>>>>>>>>>>>>>>>>>>>>>] 650/650, 8.1 task/s, elapsed: 81s, ETA:     0s"
     ]
    },
    {
     "name": "stderr",
     "output_type": "stream",
     "text": [
      "2021-05-20 04:24:58,906 - mmdet - INFO - Evaluating bbox...\n"
     ]
    },
    {
     "name": "stdout",
     "output_type": "stream",
     "text": [
      "Loading and preparing results...\n",
      "DONE (t=1.10s)\n",
      "creating index...\n",
      "index created!\n",
      "Running per image evaluation...\n",
      "Evaluate annotation type *bbox*\n",
      "DONE (t=8.51s).\n",
      "Accumulating evaluation results...\n",
      "DONE (t=1.69s).\n",
      "Average Precision  (AP) @[ IoU=0.50:0.95 | area=   all | maxDets=100 ] = 0.339\n",
      "Average Precision  (AP) @[ IoU=0.50      | area=   all | maxDets=1000 ] = 0.445\n",
      "Average Precision  (AP) @[ IoU=0.75      | area=   all | maxDets=1000 ] = 0.353\n",
      "Average Precision  (AP) @[ IoU=0.50:0.95 | area= small | maxDets=1000 ] = 0.070\n",
      "Average Precision  (AP) @[ IoU=0.50:0.95 | area=medium | maxDets=1000 ] = 0.298\n",
      "Average Precision  (AP) @[ IoU=0.50:0.95 | area= large | maxDets=1000 ] = 0.577\n",
      "Average Recall     (AR) @[ IoU=0.50:0.95 | area=   all | maxDets=100 ] = 0.511\n",
      "Average Recall     (AR) @[ IoU=0.50:0.95 | area=   all | maxDets=300 ] = 0.511\n",
      "Average Recall     (AR) @[ IoU=0.50:0.95 | area=   all | maxDets=1000 ] = 0.511\n",
      "Average Recall     (AR) @[ IoU=0.50:0.95 | area= small | maxDets=1000 ] = 0.165\n",
      "Average Recall     (AR) @[ IoU=0.50:0.95 | area=medium | maxDets=1000 ] = 0.508\n",
      "Average Recall     (AR) @[ IoU=0.50:0.95 | area= large | maxDets=1000 ] = 0.772\n"
     ]
    },
    {
     "name": "stderr",
     "output_type": "stream",
     "text": [
      "2021-05-20 04:25:15,121 - mmdet - INFO - Now best checkpoint is epoch_17.pth.Best bbox_mAP_50 is 0.4450\n",
      "2021-05-20 04:25:15,126 - mmdet - INFO - Epoch(val) [17][328]\tbbox_mAP: 0.3390, bbox_mAP_50: 0.4450, bbox_mAP_75: 0.3530, bbox_mAP_s: 0.0700, bbox_mAP_m: 0.2980, bbox_mAP_l: 0.5770, bbox_mAP_copypaste: 0.339 0.445 0.353 0.070 0.298 0.577\n",
      "2021-05-20 04:31:10,952 - mmdet - INFO - Epoch [18][50/328]\tlr: 1.000e-03, eta: 19:13:13, time: 7.116, data_time: 0.070, memory: 19673, loss_cls: 0.7469, loss_bbox: 0.2553, loss_bbox_rf: 0.3334, loss: 1.3356\n",
      "2021-05-20 04:37:01,842 - mmdet - INFO - Epoch [18][100/328]\tlr: 1.000e-03, eta: 19:08:48, time: 7.018, data_time: 0.016, memory: 19673, loss_cls: 0.7355, loss_bbox: 0.2588, loss_bbox_rf: 0.3380, loss: 1.3323\n",
      "2021-05-20 04:42:55,031 - mmdet - INFO - Epoch [18][150/328]\tlr: 1.000e-03, eta: 19:04:26, time: 7.064, data_time: 0.016, memory: 19673, loss_cls: 0.7361, loss_bbox: 0.2515, loss_bbox_rf: 0.3286, loss: 1.3162\n",
      "2021-05-20 04:48:46,755 - mmdet - INFO - Epoch [18][200/328]\tlr: 1.000e-03, eta: 19:00:00, time: 7.034, data_time: 0.016, memory: 19673, loss_cls: 0.7306, loss_bbox: 0.2390, loss_bbox_rf: 0.3110, loss: 1.2805\n",
      "2021-05-20 04:54:31,743 - mmdet - INFO - Epoch [18][250/328]\tlr: 1.000e-03, eta: 18:55:20, time: 6.900, data_time: 0.015, memory: 19673, loss_cls: 0.7331, loss_bbox: 0.2521, loss_bbox_rf: 0.3293, loss: 1.3144\n",
      "2021-05-20 05:00:23,437 - mmdet - INFO - Epoch [18][300/328]\tlr: 1.000e-03, eta: 18:50:51, time: 7.034, data_time: 0.016, memory: 19673, loss_cls: 0.7305, loss_bbox: 0.2569, loss_bbox_rf: 0.3355, loss: 1.3229\n",
      "2021-05-20 05:03:39,905 - mmdet - INFO - Saving checkpoint at 18 epochs\n"
     ]
    },
    {
     "name": "stdout",
     "output_type": "stream",
     "text": [
      "[>>>>>>>>>>>>>>>>>>>>>>>>>>>>>>] 650/650, 8.1 task/s, elapsed: 80s, ETA:     0s"
     ]
    },
    {
     "name": "stderr",
     "output_type": "stream",
     "text": [
      "2021-05-20 05:05:03,550 - mmdet - INFO - Evaluating bbox...\n"
     ]
    },
    {
     "name": "stdout",
     "output_type": "stream",
     "text": [
      "Loading and preparing results...\n",
      "DONE (t=1.07s)\n",
      "creating index...\n",
      "index created!\n",
      "Running per image evaluation...\n",
      "Evaluate annotation type *bbox*\n",
      "DONE (t=8.87s).\n",
      "Accumulating evaluation results...\n"
     ]
    },
    {
     "name": "stderr",
     "output_type": "stream",
     "text": [
      "2021-05-20 05:05:15,262 - mmdet - INFO - Epoch(val) [18][328]\tbbox_mAP: 0.3350, bbox_mAP_50: 0.4440, bbox_mAP_75: 0.3360, bbox_mAP_s: 0.0730, bbox_mAP_m: 0.2910, bbox_mAP_l: 0.5700, bbox_mAP_copypaste: 0.335 0.444 0.336 0.073 0.291 0.570\n"
     ]
    },
    {
     "name": "stdout",
     "output_type": "stream",
     "text": [
      "DONE (t=1.65s).\n",
      "Average Precision  (AP) @[ IoU=0.50:0.95 | area=   all | maxDets=100 ] = 0.335\n",
      "Average Precision  (AP) @[ IoU=0.50      | area=   all | maxDets=1000 ] = 0.444\n",
      "Average Precision  (AP) @[ IoU=0.75      | area=   all | maxDets=1000 ] = 0.336\n",
      "Average Precision  (AP) @[ IoU=0.50:0.95 | area= small | maxDets=1000 ] = 0.073\n",
      "Average Precision  (AP) @[ IoU=0.50:0.95 | area=medium | maxDets=1000 ] = 0.291\n",
      "Average Precision  (AP) @[ IoU=0.50:0.95 | area= large | maxDets=1000 ] = 0.570\n",
      "Average Recall     (AR) @[ IoU=0.50:0.95 | area=   all | maxDets=100 ] = 0.504\n",
      "Average Recall     (AR) @[ IoU=0.50:0.95 | area=   all | maxDets=300 ] = 0.504\n",
      "Average Recall     (AR) @[ IoU=0.50:0.95 | area=   all | maxDets=1000 ] = 0.504\n",
      "Average Recall     (AR) @[ IoU=0.50:0.95 | area= small | maxDets=1000 ] = 0.175\n",
      "Average Recall     (AR) @[ IoU=0.50:0.95 | area=medium | maxDets=1000 ] = 0.496\n",
      "Average Recall     (AR) @[ IoU=0.50:0.95 | area= large | maxDets=1000 ] = 0.763\n"
     ]
    },
    {
     "name": "stderr",
     "output_type": "stream",
     "text": [
      "2021-05-20 05:11:11,032 - mmdet - INFO - Epoch [19][50/328]\tlr: 1.000e-03, eta: 18:38:10, time: 7.115, data_time: 0.069, memory: 19673, loss_cls: 0.7306, loss_bbox: 0.2614, loss_bbox_rf: 0.3413, loss: 1.3333\n",
      "2021-05-20 05:17:01,823 - mmdet - INFO - Epoch [19][100/328]\tlr: 1.000e-03, eta: 18:33:40, time: 7.016, data_time: 0.017, memory: 19673, loss_cls: 0.7251, loss_bbox: 0.2465, loss_bbox_rf: 0.3209, loss: 1.2926\n",
      "2021-05-20 05:22:55,166 - mmdet - INFO - Epoch [19][150/328]\tlr: 1.000e-03, eta: 18:29:13, time: 7.067, data_time: 0.017, memory: 19673, loss_cls: 0.7317, loss_bbox: 0.2421, loss_bbox_rf: 0.3167, loss: 1.2905\n",
      "2021-05-20 05:28:46,770 - mmdet - INFO - Epoch [19][200/328]\tlr: 1.000e-03, eta: 18:24:42, time: 7.032, data_time: 0.016, memory: 19673, loss_cls: 0.7251, loss_bbox: 0.2435, loss_bbox_rf: 0.3171, loss: 1.2857\n",
      "2021-05-20 05:34:31,532 - mmdet - INFO - Epoch [19][250/328]\tlr: 1.000e-03, eta: 18:19:58, time: 6.895, data_time: 0.016, memory: 19673, loss_cls: 0.7458, loss_bbox: 0.2509, loss_bbox_rf: 0.3273, loss: 1.3240\n",
      "2021-05-20 05:40:23,232 - mmdet - INFO - Epoch [19][300/328]\tlr: 1.000e-03, eta: 18:15:25, time: 7.034, data_time: 0.017, memory: 19673, loss_cls: 0.7319, loss_bbox: 0.2417, loss_bbox_rf: 0.3149, loss: 1.2885\n",
      "2021-05-20 05:43:39,834 - mmdet - INFO - Saving checkpoint at 19 epochs\n"
     ]
    },
    {
     "name": "stdout",
     "output_type": "stream",
     "text": [
      "[>>>>>>>>>>>>>>>>>>>>>>>>>>>>>>] 650/650, 8.0 task/s, elapsed: 81s, ETA:     0s"
     ]
    },
    {
     "name": "stderr",
     "output_type": "stream",
     "text": [
      "2021-05-20 05:45:03,729 - mmdet - INFO - Evaluating bbox...\n"
     ]
    },
    {
     "name": "stdout",
     "output_type": "stream",
     "text": [
      "Loading and preparing results...\n",
      "DONE (t=1.11s)\n",
      "creating index...\n",
      "index created!\n",
      "Running per image evaluation...\n",
      "Evaluate annotation type *bbox*\n",
      "DONE (t=9.03s).\n",
      "Accumulating evaluation results...\n",
      "DONE (t=1.67s).\n",
      "Average Precision  (AP) @[ IoU=0.50:0.95 | area=   all | maxDets=100 ] = 0.343\n",
      "Average Precision  (AP) @[ IoU=0.50      | area=   all | maxDets=1000 ] = 0.447\n",
      "Average Precision  (AP) @[ IoU=0.75      | area=   all | maxDets=1000 ] = 0.350\n",
      "Average Precision  (AP) @[ IoU=0.50:0.95 | area= small | maxDets=1000 ] = 0.076\n",
      "Average Precision  (AP) @[ IoU=0.50:0.95 | area=medium | maxDets=1000 ] = 0.295\n",
      "Average Precision  (AP) @[ IoU=0.50:0.95 | area= large | maxDets=1000 ] = 0.585\n",
      "Average Recall     (AR) @[ IoU=0.50:0.95 | area=   all | maxDets=100 ] = 0.515\n",
      "Average Recall     (AR) @[ IoU=0.50:0.95 | area=   all | maxDets=300 ] = 0.515\n",
      "Average Recall     (AR) @[ IoU=0.50:0.95 | area=   all | maxDets=1000 ] = 0.515\n",
      "Average Recall     (AR) @[ IoU=0.50:0.95 | area= small | maxDets=1000 ] = 0.180\n",
      "Average Recall     (AR) @[ IoU=0.50:0.95 | area=medium | maxDets=1000 ] = 0.505\n",
      "Average Recall     (AR) @[ IoU=0.50:0.95 | area= large | maxDets=1000 ] = 0.771\n"
     ]
    },
    {
     "name": "stderr",
     "output_type": "stream",
     "text": [
      "2021-05-20 05:45:20,485 - mmdet - INFO - Now best checkpoint is epoch_19.pth.Best bbox_mAP_50 is 0.4470\n",
      "2021-05-20 05:45:20,490 - mmdet - INFO - Epoch(val) [19][328]\tbbox_mAP: 0.3430, bbox_mAP_50: 0.4470, bbox_mAP_75: 0.3500, bbox_mAP_s: 0.0760, bbox_mAP_m: 0.2950, bbox_mAP_l: 0.5850, bbox_mAP_copypaste: 0.343 0.447 0.350 0.076 0.295 0.585\n",
      "2021-05-20 05:51:16,155 - mmdet - INFO - Epoch [20][50/328]\tlr: 1.000e-03, eta: 18:03:05, time: 7.113, data_time: 0.069, memory: 19673, loss_cls: 0.7270, loss_bbox: 0.2450, loss_bbox_rf: 0.3201, loss: 1.2921\n",
      "2021-05-20 05:57:07,069 - mmdet - INFO - Epoch [20][100/328]\tlr: 1.000e-03, eta: 17:58:31, time: 7.018, data_time: 0.016, memory: 19673, loss_cls: 0.7259, loss_bbox: 0.2504, loss_bbox_rf: 0.3270, loss: 1.3034\n",
      "2021-05-20 06:03:00,375 - mmdet - INFO - Epoch [20][150/328]\tlr: 1.000e-03, eta: 17:54:00, time: 7.066, data_time: 0.016, memory: 19673, loss_cls: 0.7238, loss_bbox: 0.2441, loss_bbox_rf: 0.3190, loss: 1.2869\n",
      "2021-05-20 06:08:52,131 - mmdet - INFO - Epoch [20][200/328]\tlr: 1.000e-03, eta: 17:49:25, time: 7.035, data_time: 0.016, memory: 19673, loss_cls: 0.7124, loss_bbox: 0.2406, loss_bbox_rf: 0.3133, loss: 1.2662\n",
      "2021-05-20 06:14:37,189 - mmdet - INFO - Epoch [20][250/328]\tlr: 1.000e-03, eta: 17:44:39, time: 6.901, data_time: 0.016, memory: 19673, loss_cls: 0.7196, loss_bbox: 0.2448, loss_bbox_rf: 0.3198, loss: 1.2842\n",
      "2021-05-20 06:20:28,881 - mmdet - INFO - Epoch [20][300/328]\tlr: 1.000e-03, eta: 17:40:01, time: 7.034, data_time: 0.017, memory: 19673, loss_cls: 0.7220, loss_bbox: 0.2442, loss_bbox_rf: 0.3191, loss: 1.2853\n",
      "2021-05-20 06:23:45,379 - mmdet - INFO - Saving checkpoint at 20 epochs\n"
     ]
    },
    {
     "name": "stdout",
     "output_type": "stream",
     "text": [
      "[>>>>>>>>>>>>>>>>>>>>>>>>>>>>>>] 650/650, 7.6 task/s, elapsed: 85s, ETA:     0s"
     ]
    },
    {
     "name": "stderr",
     "output_type": "stream",
     "text": [
      "2021-05-20 06:25:13,633 - mmdet - INFO - Evaluating bbox...\n"
     ]
    },
    {
     "name": "stdout",
     "output_type": "stream",
     "text": [
      "Loading and preparing results...\n",
      "DONE (t=1.07s)\n",
      "creating index...\n",
      "index created!\n",
      "Running per image evaluation...\n",
      "Evaluate annotation type *bbox*\n",
      "DONE (t=8.87s).\n",
      "Accumulating evaluation results...\n"
     ]
    },
    {
     "name": "stderr",
     "output_type": "stream",
     "text": [
      "2021-05-20 06:25:25,352 - mmdet - INFO - Epoch(val) [20][328]\tbbox_mAP: 0.3440, bbox_mAP_50: 0.4470, bbox_mAP_75: 0.3630, bbox_mAP_s: 0.0730, bbox_mAP_m: 0.2910, bbox_mAP_l: 0.5840, bbox_mAP_copypaste: 0.344 0.447 0.363 0.073 0.291 0.584\n"
     ]
    },
    {
     "name": "stdout",
     "output_type": "stream",
     "text": [
      "DONE (t=1.65s).\n",
      "Average Precision  (AP) @[ IoU=0.50:0.95 | area=   all | maxDets=100 ] = 0.344\n",
      "Average Precision  (AP) @[ IoU=0.50      | area=   all | maxDets=1000 ] = 0.447\n",
      "Average Precision  (AP) @[ IoU=0.75      | area=   all | maxDets=1000 ] = 0.363\n",
      "Average Precision  (AP) @[ IoU=0.50:0.95 | area= small | maxDets=1000 ] = 0.073\n",
      "Average Precision  (AP) @[ IoU=0.50:0.95 | area=medium | maxDets=1000 ] = 0.291\n",
      "Average Precision  (AP) @[ IoU=0.50:0.95 | area= large | maxDets=1000 ] = 0.584\n",
      "Average Recall     (AR) @[ IoU=0.50:0.95 | area=   all | maxDets=100 ] = 0.517\n",
      "Average Recall     (AR) @[ IoU=0.50:0.95 | area=   all | maxDets=300 ] = 0.517\n",
      "Average Recall     (AR) @[ IoU=0.50:0.95 | area=   all | maxDets=1000 ] = 0.517\n",
      "Average Recall     (AR) @[ IoU=0.50:0.95 | area= small | maxDets=1000 ] = 0.184\n",
      "Average Recall     (AR) @[ IoU=0.50:0.95 | area=medium | maxDets=1000 ] = 0.504\n",
      "Average Recall     (AR) @[ IoU=0.50:0.95 | area= large | maxDets=1000 ] = 0.769\n"
     ]
    },
    {
     "name": "stderr",
     "output_type": "stream",
     "text": [
      "2021-05-20 06:31:20,926 - mmdet - INFO - Epoch [21][50/328]\tlr: 1.000e-03, eta: 17:28:01, time: 7.111, data_time: 0.067, memory: 19673, loss_cls: 0.7090, loss_bbox: 0.2374, loss_bbox_rf: 0.3093, loss: 1.2557\n",
      "2021-05-20 06:37:11,901 - mmdet - INFO - Epoch [21][100/328]\tlr: 1.000e-03, eta: 17:23:23, time: 7.019, data_time: 0.016, memory: 19673, loss_cls: 0.7324, loss_bbox: 0.2548, loss_bbox_rf: 0.3325, loss: 1.3198\n",
      "2021-05-20 06:43:05,368 - mmdet - INFO - Epoch [21][150/328]\tlr: 1.000e-03, eta: 17:18:48, time: 7.069, data_time: 0.016, memory: 19673, loss_cls: 0.7289, loss_bbox: 0.2534, loss_bbox_rf: 0.3308, loss: 1.3131\n",
      "2021-05-20 06:48:56,923 - mmdet - INFO - Epoch [21][200/328]\tlr: 1.000e-03, eta: 17:14:09, time: 7.031, data_time: 0.016, memory: 19673, loss_cls: 0.7102, loss_bbox: 0.2343, loss_bbox_rf: 0.3045, loss: 1.2490\n",
      "2021-05-20 06:54:41,886 - mmdet - INFO - Epoch [21][250/328]\tlr: 1.000e-03, eta: 17:09:20, time: 6.899, data_time: 0.016, memory: 19673, loss_cls: 0.7106, loss_bbox: 0.2377, loss_bbox_rf: 0.3098, loss: 1.2582\n",
      "2021-05-20 07:00:33,535 - mmdet - INFO - Epoch [21][300/328]\tlr: 1.000e-03, eta: 17:04:39, time: 7.033, data_time: 0.016, memory: 19673, loss_cls: 0.7151, loss_bbox: 0.2475, loss_bbox_rf: 0.3237, loss: 1.2863\n",
      "2021-05-20 07:03:49,994 - mmdet - INFO - Saving checkpoint at 21 epochs\n"
     ]
    },
    {
     "name": "stdout",
     "output_type": "stream",
     "text": [
      "[>>>>>>>>>>>>>>>>>>>>>>>>>>>>>>] 650/650, 8.1 task/s, elapsed: 80s, ETA:     0s"
     ]
    },
    {
     "name": "stderr",
     "output_type": "stream",
     "text": [
      "2021-05-20 07:05:13,185 - mmdet - INFO - Evaluating bbox...\n"
     ]
    },
    {
     "name": "stdout",
     "output_type": "stream",
     "text": [
      "Loading and preparing results...\n",
      "DONE (t=1.07s)\n",
      "creating index...\n",
      "index created!\n",
      "Running per image evaluation...\n",
      "Evaluate annotation type *bbox*\n",
      "DONE (t=8.69s).\n",
      "Accumulating evaluation results...\n",
      "DONE (t=1.62s).\n",
      "Average Precision  (AP) @[ IoU=0.50:0.95 | area=   all | maxDets=100 ] = 0.344\n",
      "Average Precision  (AP) @[ IoU=0.50      | area=   all | maxDets=1000 ] = 0.450\n",
      "Average Precision  (AP) @[ IoU=0.75      | area=   all | maxDets=1000 ] = 0.353\n",
      "Average Precision  (AP) @[ IoU=0.50:0.95 | area= small | maxDets=1000 ] = 0.074\n",
      "Average Precision  (AP) @[ IoU=0.50:0.95 | area=medium | maxDets=1000 ] = 0.291\n",
      "Average Precision  (AP) @[ IoU=0.50:0.95 | area= large | maxDets=1000 ] = 0.585\n",
      "Average Recall     (AR) @[ IoU=0.50:0.95 | area=   all | maxDets=100 ] = 0.513\n",
      "Average Recall     (AR) @[ IoU=0.50:0.95 | area=   all | maxDets=300 ] = 0.513\n",
      "Average Recall     (AR) @[ IoU=0.50:0.95 | area=   all | maxDets=1000 ] = 0.513\n",
      "Average Recall     (AR) @[ IoU=0.50:0.95 | area= small | maxDets=1000 ] = 0.187\n",
      "Average Recall     (AR) @[ IoU=0.50:0.95 | area=medium | maxDets=1000 ] = 0.497\n",
      "Average Recall     (AR) @[ IoU=0.50:0.95 | area= large | maxDets=1000 ] = 0.766\n"
     ]
    },
    {
     "name": "stderr",
     "output_type": "stream",
     "text": [
      "2021-05-20 07:05:29,477 - mmdet - INFO - Now best checkpoint is epoch_21.pth.Best bbox_mAP_50 is 0.4500\n",
      "2021-05-20 07:05:29,483 - mmdet - INFO - Epoch(val) [21][328]\tbbox_mAP: 0.3440, bbox_mAP_50: 0.4500, bbox_mAP_75: 0.3530, bbox_mAP_s: 0.0740, bbox_mAP_m: 0.2910, bbox_mAP_l: 0.5850, bbox_mAP_copypaste: 0.344 0.450 0.353 0.074 0.291 0.585\n",
      "2021-05-20 07:11:25,117 - mmdet - INFO - Epoch [22][50/328]\tlr: 1.000e-03, eta: 16:52:56, time: 7.112, data_time: 0.067, memory: 19673, loss_cls: 0.6950, loss_bbox: 0.2462, loss_bbox_rf: 0.3215, loss: 1.2627\n",
      "2021-05-20 07:17:15,777 - mmdet - INFO - Epoch [22][100/328]\tlr: 1.000e-03, eta: 16:48:15, time: 7.013, data_time: 0.016, memory: 19673, loss_cls: 0.7069, loss_bbox: 0.2433, loss_bbox_rf: 0.3170, loss: 1.2672\n",
      "2021-05-20 07:23:08,986 - mmdet - INFO - Epoch [22][150/328]\tlr: 1.000e-03, eta: 16:43:36, time: 7.064, data_time: 0.016, memory: 19673, loss_cls: 0.7201, loss_bbox: 0.2382, loss_bbox_rf: 0.3113, loss: 1.2696\n",
      "2021-05-20 07:29:00,620 - mmdet - INFO - Epoch [22][200/328]\tlr: 1.000e-03, eta: 16:38:53, time: 7.033, data_time: 0.016, memory: 19673, loss_cls: 0.6891, loss_bbox: 0.2274, loss_bbox_rf: 0.2965, loss: 1.2130\n",
      "2021-05-20 07:34:45,493 - mmdet - INFO - Epoch [22][250/328]\tlr: 1.000e-03, eta: 16:34:01, time: 6.897, data_time: 0.016, memory: 19673, loss_cls: 0.7108, loss_bbox: 0.2329, loss_bbox_rf: 0.3041, loss: 1.2478\n",
      "2021-05-20 07:40:37,036 - mmdet - INFO - Epoch [22][300/328]\tlr: 1.000e-03, eta: 16:29:17, time: 7.031, data_time: 0.016, memory: 19673, loss_cls: 0.7246, loss_bbox: 0.2550, loss_bbox_rf: 0.3330, loss: 1.3127\n",
      "2021-05-20 07:43:53,518 - mmdet - INFO - Saving checkpoint at 22 epochs\n"
     ]
    },
    {
     "name": "stdout",
     "output_type": "stream",
     "text": [
      "[>>>>>>>>>>>>>>>>>>>>>>>>>>>>>>] 650/650, 7.9 task/s, elapsed: 82s, ETA:     0s"
     ]
    },
    {
     "name": "stderr",
     "output_type": "stream",
     "text": [
      "2021-05-20 07:45:18,517 - mmdet - INFO - Evaluating bbox...\n"
     ]
    },
    {
     "name": "stdout",
     "output_type": "stream",
     "text": [
      "Loading and preparing results...\n",
      "DONE (t=1.10s)\n",
      "creating index...\n",
      "index created!\n",
      "Running per image evaluation...\n",
      "Evaluate annotation type *bbox*\n",
      "DONE (t=8.43s).\n",
      "Accumulating evaluation results...\n"
     ]
    },
    {
     "name": "stderr",
     "output_type": "stream",
     "text": [
      "2021-05-20 07:45:29,773 - mmdet - INFO - Epoch(val) [22][328]\tbbox_mAP: 0.3440, bbox_mAP_50: 0.4490, bbox_mAP_75: 0.3660, bbox_mAP_s: 0.0760, bbox_mAP_m: 0.2880, bbox_mAP_l: 0.5880, bbox_mAP_copypaste: 0.344 0.449 0.366 0.076 0.288 0.588\n"
     ]
    },
    {
     "name": "stdout",
     "output_type": "stream",
     "text": [
      "DONE (t=1.60s).\n",
      "Average Precision  (AP) @[ IoU=0.50:0.95 | area=   all | maxDets=100 ] = 0.344\n",
      "Average Precision  (AP) @[ IoU=0.50      | area=   all | maxDets=1000 ] = 0.449\n",
      "Average Precision  (AP) @[ IoU=0.75      | area=   all | maxDets=1000 ] = 0.366\n",
      "Average Precision  (AP) @[ IoU=0.50:0.95 | area= small | maxDets=1000 ] = 0.076\n",
      "Average Precision  (AP) @[ IoU=0.50:0.95 | area=medium | maxDets=1000 ] = 0.288\n",
      "Average Precision  (AP) @[ IoU=0.50:0.95 | area= large | maxDets=1000 ] = 0.588\n",
      "Average Recall     (AR) @[ IoU=0.50:0.95 | area=   all | maxDets=100 ] = 0.510\n",
      "Average Recall     (AR) @[ IoU=0.50:0.95 | area=   all | maxDets=300 ] = 0.510\n",
      "Average Recall     (AR) @[ IoU=0.50:0.95 | area=   all | maxDets=1000 ] = 0.510\n",
      "Average Recall     (AR) @[ IoU=0.50:0.95 | area= small | maxDets=1000 ] = 0.182\n",
      "Average Recall     (AR) @[ IoU=0.50:0.95 | area=medium | maxDets=1000 ] = 0.501\n",
      "Average Recall     (AR) @[ IoU=0.50:0.95 | area= large | maxDets=1000 ] = 0.764\n"
     ]
    },
    {
     "name": "stderr",
     "output_type": "stream",
     "text": [
      "2021-05-20 07:51:25,253 - mmdet - INFO - Epoch [23][50/328]\tlr: 1.000e-03, eta: 16:17:50, time: 7.109, data_time: 0.066, memory: 19673, loss_cls: 0.7096, loss_bbox: 0.2385, loss_bbox_rf: 0.3113, loss: 1.2595\n",
      "2021-05-20 07:57:15,975 - mmdet - INFO - Epoch [23][100/328]\tlr: 1.000e-03, eta: 16:13:05, time: 7.014, data_time: 0.016, memory: 19673, loss_cls: 0.6955, loss_bbox: 0.2405, loss_bbox_rf: 0.3134, loss: 1.2493\n",
      "2021-05-20 08:03:09,150 - mmdet - INFO - Epoch [23][150/328]\tlr: 1.000e-03, eta: 16:08:23, time: 7.063, data_time: 0.016, memory: 19673, loss_cls: 0.6940, loss_bbox: 0.2419, loss_bbox_rf: 0.3152, loss: 1.2511\n",
      "2021-05-20 08:09:00,820 - mmdet - INFO - Epoch [23][200/328]\tlr: 1.000e-03, eta: 16:03:38, time: 7.033, data_time: 0.016, memory: 19673, loss_cls: 0.6903, loss_bbox: 0.2273, loss_bbox_rf: 0.2965, loss: 1.2140\n",
      "2021-05-20 08:14:45,565 - mmdet - INFO - Epoch [23][250/328]\tlr: 1.000e-03, eta: 15:58:44, time: 6.895, data_time: 0.016, memory: 19673, loss_cls: 0.7145, loss_bbox: 0.2371, loss_bbox_rf: 0.3103, loss: 1.2619\n",
      "2021-05-20 08:20:37,161 - mmdet - INFO - Epoch [23][300/328]\tlr: 1.000e-03, eta: 15:53:57, time: 7.032, data_time: 0.016, memory: 19673, loss_cls: 0.7027, loss_bbox: 0.2494, loss_bbox_rf: 0.3264, loss: 1.2785\n",
      "2021-05-20 08:23:53,614 - mmdet - INFO - Saving checkpoint at 23 epochs\n"
     ]
    },
    {
     "name": "stdout",
     "output_type": "stream",
     "text": [
      "[>>>>>>>>>>>>>>>>>>>>>>>>>>>>>>] 650/650, 7.3 task/s, elapsed: 88s, ETA:     0s"
     ]
    },
    {
     "name": "stderr",
     "output_type": "stream",
     "text": [
      "2021-05-20 08:25:25,319 - mmdet - INFO - Evaluating bbox...\n"
     ]
    },
    {
     "name": "stdout",
     "output_type": "stream",
     "text": [
      "Loading and preparing results...\n",
      "DONE (t=1.05s)\n",
      "creating index...\n",
      "index created!\n",
      "Running per image evaluation...\n",
      "Evaluate annotation type *bbox*\n",
      "DONE (t=8.52s).\n",
      "Accumulating evaluation results...\n"
     ]
    },
    {
     "name": "stderr",
     "output_type": "stream",
     "text": [
      "2021-05-20 08:25:36,585 - mmdet - INFO - Epoch(val) [23][328]\tbbox_mAP: 0.3440, bbox_mAP_50: 0.4460, bbox_mAP_75: 0.3630, bbox_mAP_s: 0.0760, bbox_mAP_m: 0.2960, bbox_mAP_l: 0.5890, bbox_mAP_copypaste: 0.344 0.446 0.363 0.076 0.296 0.589\n"
     ]
    },
    {
     "name": "stdout",
     "output_type": "stream",
     "text": [
      "DONE (t=1.57s).\n",
      "Average Precision  (AP) @[ IoU=0.50:0.95 | area=   all | maxDets=100 ] = 0.344\n",
      "Average Precision  (AP) @[ IoU=0.50      | area=   all | maxDets=1000 ] = 0.446\n",
      "Average Precision  (AP) @[ IoU=0.75      | area=   all | maxDets=1000 ] = 0.363\n",
      "Average Precision  (AP) @[ IoU=0.50:0.95 | area= small | maxDets=1000 ] = 0.076\n",
      "Average Precision  (AP) @[ IoU=0.50:0.95 | area=medium | maxDets=1000 ] = 0.296\n",
      "Average Precision  (AP) @[ IoU=0.50:0.95 | area= large | maxDets=1000 ] = 0.589\n",
      "Average Recall     (AR) @[ IoU=0.50:0.95 | area=   all | maxDets=100 ] = 0.510\n",
      "Average Recall     (AR) @[ IoU=0.50:0.95 | area=   all | maxDets=300 ] = 0.510\n",
      "Average Recall     (AR) @[ IoU=0.50:0.95 | area=   all | maxDets=1000 ] = 0.510\n",
      "Average Recall     (AR) @[ IoU=0.50:0.95 | area= small | maxDets=1000 ] = 0.174\n",
      "Average Recall     (AR) @[ IoU=0.50:0.95 | area=medium | maxDets=1000 ] = 0.497\n",
      "Average Recall     (AR) @[ IoU=0.50:0.95 | area= large | maxDets=1000 ] = 0.765\n"
     ]
    },
    {
     "name": "stderr",
     "output_type": "stream",
     "text": [
      "2021-05-20 08:31:31,886 - mmdet - INFO - Epoch [24][50/328]\tlr: 1.000e-03, eta: 15:42:43, time: 7.106, data_time: 0.066, memory: 19673, loss_cls: 0.6897, loss_bbox: 0.2274, loss_bbox_rf: 0.2962, loss: 1.2133\n",
      "2021-05-20 08:37:22,515 - mmdet - INFO - Epoch [24][100/328]\tlr: 1.000e-03, eta: 15:37:56, time: 7.013, data_time: 0.016, memory: 19673, loss_cls: 0.6949, loss_bbox: 0.2381, loss_bbox_rf: 0.3105, loss: 1.2435\n"
     ]
    },
    {
     "ename": "KeyboardInterrupt",
     "evalue": "",
     "output_type": "error",
     "traceback": [
      "\u001b[0;31m---------------------------------------------------------------------------\u001b[0m",
      "\u001b[0;31mKeyboardInterrupt\u001b[0m                         Traceback (most recent call last)",
      "\u001b[0;32m<ipython-input-7-59b5768e9e45>\u001b[0m in \u001b[0;36m<module>\u001b[0;34m\u001b[0m\n\u001b[0;32m----> 1\u001b[0;31m \u001b[0mtrain_detector\u001b[0m\u001b[0;34m(\u001b[0m\u001b[0mmodel\u001b[0m\u001b[0;34m,\u001b[0m \u001b[0mdatasets\u001b[0m\u001b[0;34m[\u001b[0m\u001b[0;36m0\u001b[0m\u001b[0;34m]\u001b[0m\u001b[0;34m,\u001b[0m \u001b[0mcfg\u001b[0m\u001b[0;34m,\u001b[0m \u001b[0mdistributed\u001b[0m\u001b[0;34m=\u001b[0m\u001b[0;32mFalse\u001b[0m\u001b[0;34m,\u001b[0m \u001b[0mvalidate\u001b[0m\u001b[0;34m=\u001b[0m\u001b[0;32mTrue\u001b[0m\u001b[0;34m)\u001b[0m\u001b[0;34m\u001b[0m\u001b[0;34m\u001b[0m\u001b[0m\n\u001b[0m",
      "\u001b[0;32m~/code/mmdetection_trash/mmdet/apis/train.py\u001b[0m in \u001b[0;36mtrain_detector\u001b[0;34m(model, dataset, cfg, distributed, validate, timestamp, meta)\u001b[0m\n\u001b[1;32m    168\u001b[0m     \u001b[0;32melif\u001b[0m \u001b[0mcfg\u001b[0m\u001b[0;34m.\u001b[0m\u001b[0mload_from\u001b[0m\u001b[0;34m:\u001b[0m\u001b[0;34m\u001b[0m\u001b[0;34m\u001b[0m\u001b[0m\n\u001b[1;32m    169\u001b[0m         \u001b[0mrunner\u001b[0m\u001b[0;34m.\u001b[0m\u001b[0mload_checkpoint\u001b[0m\u001b[0;34m(\u001b[0m\u001b[0mcfg\u001b[0m\u001b[0;34m.\u001b[0m\u001b[0mload_from\u001b[0m\u001b[0;34m)\u001b[0m\u001b[0;34m\u001b[0m\u001b[0;34m\u001b[0m\u001b[0m\n\u001b[0;32m--> 170\u001b[0;31m     \u001b[0mrunner\u001b[0m\u001b[0;34m.\u001b[0m\u001b[0mrun\u001b[0m\u001b[0;34m(\u001b[0m\u001b[0mdata_loaders\u001b[0m\u001b[0;34m,\u001b[0m \u001b[0mcfg\u001b[0m\u001b[0;34m.\u001b[0m\u001b[0mworkflow\u001b[0m\u001b[0;34m)\u001b[0m\u001b[0;34m\u001b[0m\u001b[0;34m\u001b[0m\u001b[0m\n\u001b[0m",
      "\u001b[0;32m/opt/conda/lib/python3.7/site-packages/mmcv/runner/epoch_based_runner.py\u001b[0m in \u001b[0;36mrun\u001b[0;34m(self, data_loaders, workflow, max_epochs, **kwargs)\u001b[0m\n\u001b[1;32m    123\u001b[0m                     \u001b[0;32mif\u001b[0m \u001b[0mmode\u001b[0m \u001b[0;34m==\u001b[0m \u001b[0;34m'train'\u001b[0m \u001b[0;32mand\u001b[0m \u001b[0mself\u001b[0m\u001b[0;34m.\u001b[0m\u001b[0mepoch\u001b[0m \u001b[0;34m>=\u001b[0m \u001b[0mself\u001b[0m\u001b[0;34m.\u001b[0m\u001b[0m_max_epochs\u001b[0m\u001b[0;34m:\u001b[0m\u001b[0;34m\u001b[0m\u001b[0;34m\u001b[0m\u001b[0m\n\u001b[1;32m    124\u001b[0m                         \u001b[0;32mbreak\u001b[0m\u001b[0;34m\u001b[0m\u001b[0;34m\u001b[0m\u001b[0m\n\u001b[0;32m--> 125\u001b[0;31m                     \u001b[0mepoch_runner\u001b[0m\u001b[0;34m(\u001b[0m\u001b[0mdata_loaders\u001b[0m\u001b[0;34m[\u001b[0m\u001b[0mi\u001b[0m\u001b[0;34m]\u001b[0m\u001b[0;34m,\u001b[0m \u001b[0;34m**\u001b[0m\u001b[0mkwargs\u001b[0m\u001b[0;34m)\u001b[0m\u001b[0;34m\u001b[0m\u001b[0;34m\u001b[0m\u001b[0m\n\u001b[0m\u001b[1;32m    126\u001b[0m \u001b[0;34m\u001b[0m\u001b[0m\n\u001b[1;32m    127\u001b[0m         \u001b[0mtime\u001b[0m\u001b[0;34m.\u001b[0m\u001b[0msleep\u001b[0m\u001b[0;34m(\u001b[0m\u001b[0;36m1\u001b[0m\u001b[0;34m)\u001b[0m  \u001b[0;31m# wait for some hooks like loggers to finish\u001b[0m\u001b[0;34m\u001b[0m\u001b[0;34m\u001b[0m\u001b[0m\n",
      "\u001b[0;32m/opt/conda/lib/python3.7/site-packages/mmcv/runner/epoch_based_runner.py\u001b[0m in \u001b[0;36mtrain\u001b[0;34m(self, data_loader, **kwargs)\u001b[0m\n\u001b[1;32m     49\u001b[0m             \u001b[0mself\u001b[0m\u001b[0;34m.\u001b[0m\u001b[0mcall_hook\u001b[0m\u001b[0;34m(\u001b[0m\u001b[0;34m'before_train_iter'\u001b[0m\u001b[0;34m)\u001b[0m\u001b[0;34m\u001b[0m\u001b[0;34m\u001b[0m\u001b[0m\n\u001b[1;32m     50\u001b[0m             \u001b[0mself\u001b[0m\u001b[0;34m.\u001b[0m\u001b[0mrun_iter\u001b[0m\u001b[0;34m(\u001b[0m\u001b[0mdata_batch\u001b[0m\u001b[0;34m,\u001b[0m \u001b[0mtrain_mode\u001b[0m\u001b[0;34m=\u001b[0m\u001b[0;32mTrue\u001b[0m\u001b[0;34m,\u001b[0m \u001b[0;34m**\u001b[0m\u001b[0mkwargs\u001b[0m\u001b[0;34m)\u001b[0m\u001b[0;34m\u001b[0m\u001b[0;34m\u001b[0m\u001b[0m\n\u001b[0;32m---> 51\u001b[0;31m             \u001b[0mself\u001b[0m\u001b[0;34m.\u001b[0m\u001b[0mcall_hook\u001b[0m\u001b[0;34m(\u001b[0m\u001b[0;34m'after_train_iter'\u001b[0m\u001b[0;34m)\u001b[0m\u001b[0;34m\u001b[0m\u001b[0;34m\u001b[0m\u001b[0m\n\u001b[0m\u001b[1;32m     52\u001b[0m             \u001b[0mself\u001b[0m\u001b[0;34m.\u001b[0m\u001b[0m_iter\u001b[0m \u001b[0;34m+=\u001b[0m \u001b[0;36m1\u001b[0m\u001b[0;34m\u001b[0m\u001b[0;34m\u001b[0m\u001b[0m\n\u001b[1;32m     53\u001b[0m \u001b[0;34m\u001b[0m\u001b[0m\n",
      "\u001b[0;32m/opt/conda/lib/python3.7/site-packages/mmcv/runner/base_runner.py\u001b[0m in \u001b[0;36mcall_hook\u001b[0;34m(self, fn_name)\u001b[0m\n\u001b[1;32m    305\u001b[0m         \"\"\"\n\u001b[1;32m    306\u001b[0m         \u001b[0;32mfor\u001b[0m \u001b[0mhook\u001b[0m \u001b[0;32min\u001b[0m \u001b[0mself\u001b[0m\u001b[0;34m.\u001b[0m\u001b[0m_hooks\u001b[0m\u001b[0;34m:\u001b[0m\u001b[0;34m\u001b[0m\u001b[0;34m\u001b[0m\u001b[0m\n\u001b[0;32m--> 307\u001b[0;31m             \u001b[0mgetattr\u001b[0m\u001b[0;34m(\u001b[0m\u001b[0mhook\u001b[0m\u001b[0;34m,\u001b[0m \u001b[0mfn_name\u001b[0m\u001b[0;34m)\u001b[0m\u001b[0;34m(\u001b[0m\u001b[0mself\u001b[0m\u001b[0;34m)\u001b[0m\u001b[0;34m\u001b[0m\u001b[0;34m\u001b[0m\u001b[0m\n\u001b[0m\u001b[1;32m    308\u001b[0m \u001b[0;34m\u001b[0m\u001b[0m\n\u001b[1;32m    309\u001b[0m     def load_checkpoint(self,\n",
      "\u001b[0;32m/opt/conda/lib/python3.7/site-packages/mmcv/runner/hooks/optimizer.py\u001b[0m in \u001b[0;36mafter_train_iter\u001b[0;34m(self, runner)\u001b[0m\n\u001b[1;32m     33\u001b[0m     \u001b[0;32mdef\u001b[0m \u001b[0mafter_train_iter\u001b[0m\u001b[0;34m(\u001b[0m\u001b[0mself\u001b[0m\u001b[0;34m,\u001b[0m \u001b[0mrunner\u001b[0m\u001b[0;34m)\u001b[0m\u001b[0;34m:\u001b[0m\u001b[0;34m\u001b[0m\u001b[0;34m\u001b[0m\u001b[0m\n\u001b[1;32m     34\u001b[0m         \u001b[0mrunner\u001b[0m\u001b[0;34m.\u001b[0m\u001b[0moptimizer\u001b[0m\u001b[0;34m.\u001b[0m\u001b[0mzero_grad\u001b[0m\u001b[0;34m(\u001b[0m\u001b[0;34m)\u001b[0m\u001b[0;34m\u001b[0m\u001b[0;34m\u001b[0m\u001b[0m\n\u001b[0;32m---> 35\u001b[0;31m         \u001b[0mrunner\u001b[0m\u001b[0;34m.\u001b[0m\u001b[0moutputs\u001b[0m\u001b[0;34m[\u001b[0m\u001b[0;34m'loss'\u001b[0m\u001b[0;34m]\u001b[0m\u001b[0;34m.\u001b[0m\u001b[0mbackward\u001b[0m\u001b[0;34m(\u001b[0m\u001b[0;34m)\u001b[0m\u001b[0;34m\u001b[0m\u001b[0;34m\u001b[0m\u001b[0m\n\u001b[0m\u001b[1;32m     36\u001b[0m         \u001b[0;32mif\u001b[0m \u001b[0mself\u001b[0m\u001b[0;34m.\u001b[0m\u001b[0mgrad_clip\u001b[0m \u001b[0;32mis\u001b[0m \u001b[0;32mnot\u001b[0m \u001b[0;32mNone\u001b[0m\u001b[0;34m:\u001b[0m\u001b[0;34m\u001b[0m\u001b[0;34m\u001b[0m\u001b[0m\n\u001b[1;32m     37\u001b[0m             \u001b[0mgrad_norm\u001b[0m \u001b[0;34m=\u001b[0m \u001b[0mself\u001b[0m\u001b[0;34m.\u001b[0m\u001b[0mclip_grads\u001b[0m\u001b[0;34m(\u001b[0m\u001b[0mrunner\u001b[0m\u001b[0;34m.\u001b[0m\u001b[0mmodel\u001b[0m\u001b[0;34m.\u001b[0m\u001b[0mparameters\u001b[0m\u001b[0;34m(\u001b[0m\u001b[0;34m)\u001b[0m\u001b[0;34m)\u001b[0m\u001b[0;34m\u001b[0m\u001b[0;34m\u001b[0m\u001b[0m\n",
      "\u001b[0;32m/opt/conda/lib/python3.7/site-packages/torch/tensor.py\u001b[0m in \u001b[0;36mbackward\u001b[0;34m(self, gradient, retain_graph, create_graph)\u001b[0m\n\u001b[1;32m    183\u001b[0m                 \u001b[0mproducts\u001b[0m\u001b[0;34m.\u001b[0m \u001b[0mDefaults\u001b[0m \u001b[0mto\u001b[0m\u001b[0;31m \u001b[0m\u001b[0;31m`\u001b[0m\u001b[0;31m`\u001b[0m\u001b[0;32mFalse\u001b[0m\u001b[0;31m`\u001b[0m\u001b[0;31m`\u001b[0m\u001b[0;34m.\u001b[0m\u001b[0;34m\u001b[0m\u001b[0;34m\u001b[0m\u001b[0m\n\u001b[1;32m    184\u001b[0m         \"\"\"\n\u001b[0;32m--> 185\u001b[0;31m         \u001b[0mtorch\u001b[0m\u001b[0;34m.\u001b[0m\u001b[0mautograd\u001b[0m\u001b[0;34m.\u001b[0m\u001b[0mbackward\u001b[0m\u001b[0;34m(\u001b[0m\u001b[0mself\u001b[0m\u001b[0;34m,\u001b[0m \u001b[0mgradient\u001b[0m\u001b[0;34m,\u001b[0m \u001b[0mretain_graph\u001b[0m\u001b[0;34m,\u001b[0m \u001b[0mcreate_graph\u001b[0m\u001b[0;34m)\u001b[0m\u001b[0;34m\u001b[0m\u001b[0;34m\u001b[0m\u001b[0m\n\u001b[0m\u001b[1;32m    186\u001b[0m \u001b[0;34m\u001b[0m\u001b[0m\n\u001b[1;32m    187\u001b[0m     \u001b[0;32mdef\u001b[0m \u001b[0mregister_hook\u001b[0m\u001b[0;34m(\u001b[0m\u001b[0mself\u001b[0m\u001b[0;34m,\u001b[0m \u001b[0mhook\u001b[0m\u001b[0;34m)\u001b[0m\u001b[0;34m:\u001b[0m\u001b[0;34m\u001b[0m\u001b[0;34m\u001b[0m\u001b[0m\n",
      "\u001b[0;32m/opt/conda/lib/python3.7/site-packages/torch/autograd/__init__.py\u001b[0m in \u001b[0;36mbackward\u001b[0;34m(tensors, grad_tensors, retain_graph, create_graph, grad_variables)\u001b[0m\n\u001b[1;32m    125\u001b[0m     Variable._execution_engine.run_backward(\n\u001b[1;32m    126\u001b[0m         \u001b[0mtensors\u001b[0m\u001b[0;34m,\u001b[0m \u001b[0mgrad_tensors\u001b[0m\u001b[0;34m,\u001b[0m \u001b[0mretain_graph\u001b[0m\u001b[0;34m,\u001b[0m \u001b[0mcreate_graph\u001b[0m\u001b[0;34m,\u001b[0m\u001b[0;34m\u001b[0m\u001b[0;34m\u001b[0m\u001b[0m\n\u001b[0;32m--> 127\u001b[0;31m         allow_unreachable=True)  # allow_unreachable flag\n\u001b[0m\u001b[1;32m    128\u001b[0m \u001b[0;34m\u001b[0m\u001b[0m\n\u001b[1;32m    129\u001b[0m \u001b[0;34m\u001b[0m\u001b[0m\n",
      "\u001b[0;31mKeyboardInterrupt\u001b[0m: "
     ]
    }
   ],
   "source": [
    "train_detector(model, datasets[0], cfg, distributed=False, validate=True)"
   ]
  },
  {
   "cell_type": "code",
   "execution_count": null,
   "metadata": {},
   "outputs": [],
   "source": []
  }
 ],
 "metadata": {
  "kernelspec": {
   "display_name": "Python 3",
   "language": "python",
   "name": "python3"
  },
  "language_info": {
   "codemirror_mode": {
    "name": "ipython",
    "version": 3
   },
   "file_extension": ".py",
   "mimetype": "text/x-python",
   "name": "python",
   "nbconvert_exporter": "python",
   "pygments_lexer": "ipython3",
   "version": "3.8.5"
  },
  "pycharm": {
   "stem_cell": {
    "cell_type": "raw",
    "metadata": {
     "collapsed": false
    },
    "source": []
   }
  }
 },
 "nbformat": 4,
 "nbformat_minor": 4
}
